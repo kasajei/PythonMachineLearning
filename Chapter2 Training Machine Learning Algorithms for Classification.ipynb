{
 "cells": [
  {
   "cell_type": "markdown",
   "metadata": {},
   "source": [
    "# 概要\n",
    "教師あり学習の線形分類の基本的な考え方を学ぶ。そのためにパーセプトロンを実装してみる。\n",
    "\n",
    "## パーセプトロン\n",
    "1個のニューロンを模したアルゴリズムで、線形分離可能なデータセットに対して2つに分類することができる。軸索での他ニューロンからのインプットを\n",
    "\n",
    "重みベクトル・入力データベクトル^(i) + 定数（重みの0番目と考える）\n",
    "\n",
    "で現し、活性化を２値の階段関数（-1が定常, 1が発火）で考え、データを分類することを考える。\n",
    "\n",
    "教師あり学習を考えているので、データセットとしては[入力データベクトル^(0),入力データベクトル^(1), ... ]に対して[答え[0], 答え[1], ...]を想定している\n",
    "\n",
    "## パーセプトロンのルール\n",
    "1. 重みベクトルを0 or 小さいランダムな値で初期化\n",
    "2. 各データセット(i)ごとに\n",
    "    1. 階段関数(重みベクトル・入力データベクトル(i))を計算して推測値を出す\n",
    "    2. 推測値と教師と比べて、重みベクトルを更新\n",
    "    \n",
    "更新は、\n",
    "\n",
    "- 重み＿( j )    += 学習率 ・（答え - 推測値）・入力データベクトル^(i)＿(j)\n",
    "- 重み＿(0)   += 学習率 ・（答え - 推測値）\n",
    "\n",
    "で行う。（目的関数を（答え-推測値)^2 として、各重みで偏微分）\n"
   ]
  },
  {
   "cell_type": "code",
   "execution_count": 1,
   "metadata": {
    "collapsed": false
   },
   "outputs": [
    {
     "name": "stdout",
     "output_type": "stream",
     "text": [
      "入力値:0.0\n"
     ]
    }
   ],
   "source": [
    "import numpy as np\n",
    "# 例えば2次元の\n",
    "input_vecs = np.array([[1,2],[1,3], [-1,1], [-1,2]]) # データーセット\n",
    "awnser_value = [1,1,-1,-1] # 答え\n",
    "# に対して、重みは3次元で用意し、\n",
    "weight = np.zeros(3)\n",
    "# を考えインプットは\n",
    "input_value = np.dot(input_vecs[0], weight[1:]) + weight[0]\n",
    "print(\"入力値:\" +str(input_value))\n",
    "# を考える"
   ]
  },
  {
   "cell_type": "code",
   "execution_count": 2,
   "metadata": {
    "collapsed": false
   },
   "outputs": [
    {
     "name": "stdout",
     "output_type": "stream",
     "text": [
      "予測値: -1\n"
     ]
    }
   ],
   "source": [
    "# 活性化関数は\n",
    "predict_value = np.where(input_value >0.0, 1, -1)\n",
    "print(\"予測値:\" , str(predict_value))"
   ]
  },
  {
   "cell_type": "code",
   "execution_count": 3,
   "metadata": {
    "collapsed": false
   },
   "outputs": [
    {
     "name": "stdout",
     "output_type": "stream",
     "text": [
      "[ 0.2  0.2  0.4]\n"
     ]
    }
   ],
   "source": [
    "# 学習は学習率で、\n",
    "learning_rate = 0.1\n",
    "# 学習率・（答え - 推測）は\n",
    "update = learning_rate * (awnser_value[0] - predict_value)\n",
    "# 重みの更新は\n",
    "weight[1:] += update * input_vecs[0]\n",
    "weight[0] += update\n",
    "print(weight)"
   ]
  },
  {
   "cell_type": "markdown",
   "metadata": {},
   "source": [
    "これを全データセットに対して行い、また繰り返し行うことで、精度を上げていく。\n",
    "\n",
    "使いやすいように、本通りにクラスで実装してみる。\n"
   ]
  },
  {
   "cell_type": "code",
   "execution_count": 4,
   "metadata": {
    "collapsed": true
   },
   "outputs": [],
   "source": [
    "class Perceptron(object):\n",
    "    \"\"\"\n",
    "    eta : 学習率η\n",
    "    n_iter :  学習を何回繰り返すか\n",
    "    X : 入力のデータセット\n",
    "    y : 答えのデータセット\n",
    "    w_ : 重みベクトル\n",
    "    \"\"\"\n",
    "    def __init__(self, eta=0.01, n_iter=10):\n",
    "        self.eta = eta\n",
    "        self.n_iter = n_iter\n",
    "    \n",
    "    def fit(self, X , y):\n",
    "        \"\"\"\n",
    "        学習メソッド\n",
    "        X : np.array\n",
    "        y : np.array\n",
    "        \"\"\"\n",
    "        self.w_ = np.zeros(1 + X.shape[1]) # 入力データセット + 1で重み初期化\n",
    "        self.errors_ = [] #あとで学習の結果を見るため\n",
    "        for _ in range(self.n_iter):\n",
    "            error = 0\n",
    "            for xi, yi in zip(X, y):\n",
    "                update = self.eta * (yi - self.predict(xi))\n",
    "                self.w_[1:] += update * xi\n",
    "                self.w_[0] += update\n",
    "                error += int(update != 0.0)\n",
    "            self.errors_.append(error)\n",
    "        return self\n",
    "    \n",
    "    def net_input(self, X):\n",
    "        \"\"\"\n",
    "        活性化関数に入れる前の入力の値を決める。predictから使われる\n",
    "        return: 重みベクトル・入力データベクトル^(i) + 定数（重みの0番目と考える）\n",
    "        \"\"\"\n",
    "        return np.dot(X, self.w_[1:]) + self.w_[0]\n",
    "    \n",
    "    def predict(self, X):\n",
    "        \"\"\"\n",
    "        予想値を出力する\n",
    "        return: 階段関数（入力値）\n",
    "        \"\"\"\n",
    "        return np.where(self.net_input(X) >=0.0, 1, -1)"
   ]
  },
  {
   "cell_type": "markdown",
   "metadata": {},
   "source": [
    "# 実際にirisデータで学習してみる"
   ]
  },
  {
   "cell_type": "code",
   "execution_count": 5,
   "metadata": {
    "collapsed": false
   },
   "outputs": [
    {
     "name": "stdout",
     "output_type": "stream",
     "text": [
      "     0    1    2    3            4\n",
      "0  5.1  3.5  1.4  0.2  Iris-setosa\n",
      "1  4.9  3.0  1.4  0.2  Iris-setosa\n",
      "2  4.7  3.2  1.3  0.2  Iris-setosa\n",
      "3  4.6  3.1  1.5  0.2  Iris-setosa\n",
      "4  5.0  3.6  1.4  0.2  Iris-setosa\n"
     ]
    }
   ],
   "source": [
    "%matplotlib inline\n",
    "\n",
    "import pandas as pd\n",
    "import matplotlib.pyplot as plt\n",
    "\n",
    "df = pd.io.parsers.read_csv(\n",
    "    filepath_or_buffer='data/iris.data',\n",
    "    header=None,\n",
    "    sep=',',\n",
    "    )\n",
    "\n",
    "print(df.head())"
   ]
  },
  {
   "cell_type": "code",
   "execution_count": 6,
   "metadata": {
    "collapsed": false
   },
   "outputs": [
    {
     "name": "stdout",
     "output_type": "stream",
     "text": [
      "\n",
      "答え:[-1 -1 -1 -1 -1]\n"
     ]
    }
   ],
   "source": [
    "y = df.iloc[:100, 4].values # 答えを抽出\n",
    "y = np.where(y==\"Iris-setosa\", -1, 1)  # 答えを階段関数と同じ形式にする\n",
    "print(\"\\n答え:\" +str(y[:5]))"
   ]
  },
  {
   "cell_type": "code",
   "execution_count": 7,
   "metadata": {
    "collapsed": false
   },
   "outputs": [
    {
     "data": {
      "text/plain": [
       "array([[ 5.1,  1.4],\n",
       "       [ 4.9,  1.4],\n",
       "       [ 4.7,  1.3],\n",
       "       [ 4.6,  1.5],\n",
       "       [ 5. ,  1.4]])"
      ]
     },
     "execution_count": 7,
     "metadata": {},
     "output_type": "execute_result"
    }
   ],
   "source": [
    "X = df.iloc[:100, [0,2]].values # 入力ベクトルを抽出\n",
    "X[:5]"
   ]
  },
  {
   "cell_type": "code",
   "execution_count": 8,
   "metadata": {
    "collapsed": false
   },
   "outputs": [
    {
     "data": {
      "image/png": "[encoded data removed]",
      "text/plain": [
       "<matplotlib.figure.Figure at 0x1086bab00>"
      ]
     },
     "metadata": {},
     "output_type": "display_data"
    }
   ],
   "source": [
    "#プロットしてみる\n",
    "for xi, yi in zip(X, y):\n",
    "    if yi == -1:\n",
    "        plt.scatter(xi[0], xi[1], color=\"red\", marker=\"o\", label=\"setosa\")\n",
    "    else:\n",
    "        plt.scatter(xi[0], xi[1], color=\"blue\", marker=\"x\", label=\"versicolor\")\n",
    "plt.xlabel(\"petal length\")\n",
    "plt.ylabel(\"sepal length\")\n",
    "plt.show()"
   ]
  },
  {
   "cell_type": "code",
   "execution_count": 9,
   "metadata": {
    "collapsed": false
   },
   "outputs": [
    {
     "data": {
      "image/png": "[encoded data removed]",
      "text/plain": [
       "<matplotlib.figure.Figure at 0x1086c5630>"
      ]
     },
     "metadata": {},
     "output_type": "display_data"
    }
   ],
   "source": [
    "# 学習してみる\n",
    "ppn = Perceptron(eta=0.1, n_iter=10)\n",
    "ppn.fit(X, y)\n",
    "plt.plot(range(1, len(ppn.errors_)+1), ppn.errors_, marker=\"o\")\n",
    "plt.xlabel(\"Epochs\")\n",
    "plt.ylabel(\"Erros\")\n",
    "plt.show()"
   ]
  },
  {
   "cell_type": "markdown",
   "metadata": {},
   "source": [
    "エラーがー少なくなっていることがわかる（予想できた）"
   ]
  }
 ],
 "metadata": {
  "kernelspec": {
   "display_name": "Python 3",
   "language": "python",
   "name": "python3"
  },
  "language_info": {
   "codemirror_mode": {
    "name": "ipython",
    "version": 3
   },
   "file_extension": ".py",
   "mimetype": "text/x-python",
   "name": "python",
   "nbconvert_exporter": "python",
   "pygments_lexer": "ipython3",
   "version": "3.4.3"
  }
 },
 "nbformat": 4,
 "nbformat_minor": 0
}
