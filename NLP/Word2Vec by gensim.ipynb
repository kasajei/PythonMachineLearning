{
 "cells": [
  {
   "cell_type": "markdown",
   "metadata": {},
   "source": [
    "# gensimを使ってWord2Vec\n",
    "gensimつか"
   ]
  },
  {
   "cell_type": "code",
   "execution_count": 35,
   "metadata": {
    "collapsed": false
   },
   "outputs": [],
   "source": [
    "import os\n",
    "from gensim.models import word2vec\n",
    "from gensim import models\n",
    "import numpy as np"
   ]
  },
  {
   "cell_type": "code",
   "execution_count": 2,
   "metadata": {
    "collapsed": false
   },
   "outputs": [
    {
     "name": "stdout",
     "output_type": "stream",
     "text": [
      "[['aer', 'banknote', 'berlitz', 'calloway', 'centrust', 'cluett', 'fromstein', 'gitano', 'guterman', 'hydro-quebec', 'ipo', 'kia', 'memotec', 'mlx', 'nahb', 'punts', 'rake', 'regatta', 'rubens', 'sim', 'snack-food', 'ssangyong', 'swapo', 'wachter'], ['pierre', '<unk>', 'N', 'years', 'old', 'will', 'join', 'the', 'board', 'as', 'a', 'nonexecutive', 'director', 'nov.', 'N'], ['mr.', '<unk>', 'is', 'chairman', 'of', '<unk>', 'n.v.', 'the', 'dutch', 'publishing', 'group'], ['rudolph', '<unk>', 'N', 'years', 'old', 'and', 'former', 'chairman', 'of', 'consolidated', 'gold', 'fields', 'plc', 'was', 'named', 'a', 'nonexecutive', 'director', 'of', 'this', 'british', 'industrial', 'conglomerate'], ['a', 'form', 'of', 'asbestos', 'once', 'used', 'to', 'make', 'kent', 'cigarette', 'filters', 'has', 'caused', 'a', 'high', 'percentage', 'of', 'cancer', 'deaths', 'among', 'a', 'group', 'of', 'workers', 'exposed', 'to', 'it', 'more', 'than', 'N', 'years', 'ago', 'researchers', 'reported']]\n"
     ]
    }
   ],
   "source": [
    "class Sentences(object):\n",
    "    def __init__(self, file_name):\n",
    "        self.file_name = file_name\n",
    "        \n",
    "    def __iter__(self):\n",
    "            for line in open(self.file_name):\n",
    "                yield line.split()\n",
    "                \n",
    "sentences = Sentences('../data/ptb/ptb.train.txt')\n",
    "print([sentence for sentence in sentences][:5] )"
   ]
  },
  {
   "cell_type": "code",
   "execution_count": 3,
   "metadata": {
    "collapsed": false
   },
   "outputs": [],
   "source": [
    "model = word2vec.Word2Vec(sentences, size=100)"
   ]
  },
  {
   "cell_type": "code",
   "execution_count": 4,
   "metadata": {
    "collapsed": false,
    "scrolled": true
   },
   "outputs": [
    {
     "data": {
      "text/plain": [
       "[('scoring', 0.9915012717247009),\n",
       " ('greenville', 0.9675653576850891),\n",
       " ('achievement', 0.9647419452667236),\n",
       " ('standardized', 0.9622032046318054),\n",
       " ('ward', 0.9377832412719727),\n",
       " ('fetal-tissue', 0.9346851110458374),\n",
       " ('yeargin', 0.9345622658729553),\n",
       " ('geography', 0.9105844497680664),\n",
       " ('wilder', 0.895742654800415),\n",
       " ('teacher', 0.8939535021781921)]"
      ]
     },
     "execution_count": 4,
     "metadata": {},
     "output_type": "execute_result"
    }
   ],
   "source": [
    "model.most_similar(\"cat\")"
   ]
  },
  {
   "cell_type": "code",
   "execution_count": 5,
   "metadata": {
    "collapsed": false
   },
   "outputs": [
    {
     "data": {
      "text/plain": [
       "0.99150131469370695"
      ]
     },
     "execution_count": 5,
     "metadata": {},
     "output_type": "execute_result"
    }
   ],
   "source": [
    "model.similarity(\"cat\", \"scoring\")"
   ]
  },
  {
   "cell_type": "code",
   "execution_count": 6,
   "metadata": {
    "collapsed": false
   },
   "outputs": [
    {
     "data": {
      "text/plain": [
       "0.34835327703409635"
      ]
     },
     "execution_count": 6,
     "metadata": {},
     "output_type": "execute_result"
    }
   ],
   "source": [
    "model.similarity(\"cat\", \"dog\")"
   ]
  },
  {
   "cell_type": "code",
   "execution_count": 7,
   "metadata": {
    "collapsed": false
   },
   "outputs": [
    {
     "data": {
      "text/plain": [
       "[('mess', 0.7983297109603882),\n",
       " ('survival', 0.7929883003234863),\n",
       " ('passion', 0.7925668954849243),\n",
       " ('candidate', 0.7786241769790649),\n",
       " ('child', 0.7712340354919434),\n",
       " ('discussion', 0.7617973685264587),\n",
       " ('mystery', 0.7547429800033569),\n",
       " ('emerges', 0.7516999840736389),\n",
       " ('violent', 0.751529335975647),\n",
       " ('piece', 0.7513196468353271)]"
      ]
     },
     "execution_count": 7,
     "metadata": {},
     "output_type": "execute_result"
    }
   ],
   "source": [
    "model.most_similar(\"dog\")"
   ]
  },
  {
   "cell_type": "code",
   "execution_count": 8,
   "metadata": {
    "collapsed": false
   },
   "outputs": [
    {
     "data": {
      "text/plain": [
       "0.79298826686595469"
      ]
     },
     "execution_count": 8,
     "metadata": {},
     "output_type": "execute_result"
    }
   ],
   "source": [
    "model.similarity(\"dog\", \"survival\")"
   ]
  },
  {
   "cell_type": "code",
   "execution_count": 53,
   "metadata": {
    "collapsed": false
   },
   "outputs": [
    {
     "data": {
      "text/plain": [
       "[('nominal', 0.6416242122650146),\n",
       " ('few', 0.6148178577423096),\n",
       " ('clause', 0.6117348670959473)]"
      ]
     },
     "execution_count": 53,
     "metadata": {},
     "output_type": "execute_result"
    }
   ],
   "source": [
    "model.most_similar(positive=[\"dog\"], negative=[\"cat\"], topn=3)"
   ]
  },
  {
   "cell_type": "code",
   "execution_count": 55,
   "metadata": {
    "collapsed": false
   },
   "outputs": [
    {
     "data": {
      "text/plain": [
       "array([ 0.00096143,  0.00036908,  0.00089452,  0.00038177,  0.00019279], dtype=float32)"
      ]
     },
     "execution_count": 55,
     "metadata": {},
     "output_type": "execute_result"
    }
   ],
   "source": [
    "model[\"cat\"][:5]"
   ]
  },
  {
   "cell_type": "markdown",
   "metadata": {},
   "source": [
    "# Doc2Vecを使ってみる\n"
   ]
  },
  {
   "cell_type": "code",
   "execution_count": 27,
   "metadata": {
    "collapsed": false
   },
   "outputs": [
    {
     "name": "stdout",
     "output_type": "stream",
     "text": [
      "[LabeledSentence(words=['aer', 'banknote', 'berlitz', 'calloway', 'centrust', 'cluett', 'fromstein', 'gitano', 'guterman', 'hydro-quebec', 'ipo', 'kia', 'memotec', 'mlx', 'nahb', 'punts', 'rake', 'regatta', 'rubens', 'sim', 'snack-food', 'ssangyong', 'swapo', 'wachter'], tags=['SENT_0']), LabeledSentence(words=['pierre', '<unk>', 'N', 'years', 'old', 'will', 'join', 'the', 'board', 'as', 'a', 'nonexecutive', 'director', 'nov.', 'N'], tags=['SENT_1']), LabeledSentence(words=['mr.', '<unk>', 'is', 'chairman', 'of', '<unk>', 'n.v.', 'the', 'dutch', 'publishing', 'group'], tags=['SENT_2']), LabeledSentence(words=['rudolph', '<unk>', 'N', 'years', 'old', 'and', 'former', 'chairman', 'of', 'consolidated', 'gold', 'fields', 'plc', 'was', 'named', 'a', 'nonexecutive', 'director', 'of', 'this', 'british', 'industrial', 'conglomerate'], tags=['SENT_3']), LabeledSentence(words=['a', 'form', 'of', 'asbestos', 'once', 'used', 'to', 'make', 'kent', 'cigarette', 'filters', 'has', 'caused', 'a', 'high', 'percentage', 'of', 'cancer', 'deaths', 'among', 'a', 'group', 'of', 'workers', 'exposed', 'to', 'it', 'more', 'than', 'N', 'years', 'ago', 'researchers', 'reported'], tags=['SENT_4'])]\n"
     ]
    }
   ],
   "source": [
    "class LabeledLineSentence(object):\n",
    "    def __init__(self, texts_words):\n",
    "        self.texts_words = texts_words\n",
    "\n",
    "    def __iter__(self):\n",
    "        for uid, words in enumerate(self.texts_words):\n",
    "            yield models.doc2vec.LabeledSentence(words, ['SENT_%s' % uid])\n",
    "\n",
    "            \n",
    "doc_sentense = LabeledLineSentence(sentences)\n",
    "print([word for word in doc_sentense][:5])"
   ]
  },
  {
   "cell_type": "code",
   "execution_count": 17,
   "metadata": {
    "collapsed": true
   },
   "outputs": [],
   "source": [
    "# 学習する\n",
    "model = models.Doc2Vec(doc_sentense)"
   ]
  },
  {
   "cell_type": "code",
   "execution_count": 62,
   "metadata": {
    "collapsed": false
   },
   "outputs": [
    {
     "name": "stdout",
     "output_type": "stream",
     "text": [
      "[ 0.0002892  -0.00098146 -0.00040128  0.00116717  0.00130893]\n",
      "300\n",
      "300\n"
     ]
    }
   ],
   "source": [
    "# ベクトル空間としての表現\n",
    "print(model.docvecs[\"SENT_1\"][:5] )\n",
    "print(len(model.docvecs[\"SENT_1\"]))\n",
    "print(len(model[\"cat\"]))"
   ]
  },
  {
   "cell_type": "code",
   "execution_count": 58,
   "metadata": {
    "collapsed": false
   },
   "outputs": [
    {
     "data": {
      "text/plain": [
       "[(7960, 0.2472957819700241),\n",
       " (4043, 0.22120028734207153),\n",
       " (36203, 0.21536317467689514),\n",
       " (34243, 0.21087482571601868),\n",
       " (6199, 0.20661276578903198),\n",
       " (8840, 0.20189617574214935),\n",
       " (23854, 0.20054861903190613),\n",
       " (41569, 0.20027245581150055),\n",
       " (26879, 0.19978341460227966),\n",
       " (29426, 0.1994551420211792)]"
      ]
     },
     "execution_count": 58,
     "metadata": {},
     "output_type": "execute_result"
    }
   ],
   "source": [
    "# 似ている文章を探す\n",
    "model.docvecs.most_similar(\"SENT_1\")"
   ]
  },
  {
   "cell_type": "code",
   "execution_count": 59,
   "metadata": {
    "collapsed": false
   },
   "outputs": [
    {
     "name": "stdout",
     "output_type": "stream",
     "text": [
      "['pierre', '<unk>', 'N', 'years', 'old', 'will', 'join', 'the', 'board', 'as', 'a', 'nonexecutive', 'director', 'nov.', 'N']\n",
      "['the', 'recent', 'outcry', 'over', 'program', 'trading', 'will', 'cast', 'a', 'pall', 'over', 'the', '<unk>', 'environment', 'in', 'the', 'coming', 'months', 'some', 'analysts', 'say']\n"
     ]
    }
   ],
   "source": [
    "sentences_list = [sentence for sentence in sentences]\n",
    "print(sentences_list[1])\n",
    "print(sentences_list[7964])"
   ]
  }
 ],
 "metadata": {
  "kernelspec": {
   "display_name": "Python 3",
   "language": "python",
   "name": "python3"
  },
  "language_info": {
   "codemirror_mode": {
    "name": "ipython",
    "version": 3
   },
   "file_extension": ".py",
   "mimetype": "text/x-python",
   "name": "python",
   "nbconvert_exporter": "python",
   "pygments_lexer": "ipython3",
   "version": "3.4.3"
  }
 },
 "nbformat": 4,
 "nbformat_minor": 0
}
