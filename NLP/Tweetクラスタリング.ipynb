{
 "cells": [
  {
   "cell_type": "code",
   "execution_count": 1,
   "metadata": {
    "collapsed": false
   },
   "outputs": [
    {
     "name": "stdout",
     "output_type": "stream",
     "text": [
      "python が 大好き です \n",
      "\n",
      "無理 だ ー \n",
      "\n",
      "人間 よ 、 24 に 、 分類 さ れよ ！ \n",
      "\n",
      "計算 中 ・ ・ ・ \n",
      "\n",
      "えい 、 ` from scipy . cluster . vq import vq , kmeans , whiten ` \n",
      "\n",
      "k - means やる ぞ \n",
      "\n",
      "お は よー ！ 6 h 28 m ね た よ ！ January 27 , 2016 at 01 : 19 AM → January 27 , 2016 at 08 : 06 AM \n",
      "\n",
      "ねむい ー \n",
      "\n",
      "Doc 2 Vec の 基底 ベクトル は Word 2 Vec の それ と 一緒 っぽい な \n",
      "\n"
     ]
    }
   ],
   "source": [
    "import pandas as pd\n",
    "import MeCab\n",
    "from gensim import models\n",
    "\n",
    "df = pd.read_csv(\"../data/tweets.csv\")\n",
    "mecab = MeCab.Tagger (\"-Owakati\")\n",
    "print(mecab.parse(\"pythonが大好きです\"))\n",
    "\n",
    "df = df[pd.isnull(df.retweeted_status_id)]\n",
    "df = df[pd.isnull(df.in_reply_to_status_id)]\n",
    "df = df[df.text.str.find(\"http\")==-1]\n",
    "\n",
    "for index, row in df.iterrows():\n",
    "    if not pd.isnull(row.text):\n",
    "        df.set_value(index, \"text\", mecab.parse(row[\"text\"]))        \n",
    "        \n",
    "for index, row in df.iterrows():\n",
    "    if not pd.isnull(row.text):\n",
    "        print(row.text)\n",
    "    if index > 10 : break;"
   ]
  },
  {
   "cell_type": "code",
   "execution_count": 2,
   "metadata": {
    "collapsed": true
   },
   "outputs": [],
   "source": [
    "df.to_csv(\"../data/formatted_tweets.csv\")"
   ]
  },
  {
   "cell_type": "code",
   "execution_count": 3,
   "metadata": {
    "collapsed": false
   },
   "outputs": [
    {
     "name": "stdout",
     "output_type": "stream",
     "text": [
      "[LabeledSentence(words=['無理', 'だ', 'ー'], tags=['text_1']), LabeledSentence(words=['人間', 'よ', '、', '24', 'に', '、', '分類', 'さ', 'れよ', '！'], tags=['text_2']), LabeledSentence(words=['計算', '中', '・', '・', '・'], tags=['text_3']), LabeledSentence(words=['えい', '、', '`', 'from', 'scipy', '.', 'cluster', '.', 'vq', 'import', 'vq', ',', 'kmeans', ',', 'whiten', '`'], tags=['text_4']), LabeledSentence(words=['k', '-', 'means', 'やる', 'ぞ'], tags=['text_5'])]\n"
     ]
    },
    {
     "data": {
      "text/plain": [
       "8423"
      ]
     },
     "execution_count": 3,
     "metadata": {},
     "output_type": "execute_result"
    }
   ],
   "source": [
    "import itertools\n",
    "class LabeledLineSentence(object):\n",
    "    def __init__(self, df):\n",
    "        self.df = df\n",
    "\n",
    "    def __iter__(self):\n",
    "        for index, row in self.df.iterrows():            \n",
    "            yield models.doc2vec.LabeledSentence(row[\"text\"].split(), ['text_%s' % index])\n",
    "            \n",
    "\n",
    "sentence = LabeledLineSentence(df)\n",
    "print(list(sentence)[:5])\n",
    "len(df)"
   ]
  },
  {
   "cell_type": "code",
   "execution_count": 4,
   "metadata": {
    "collapsed": false
   },
   "outputs": [
    {
     "name": "stdout",
     "output_type": "stream",
     "text": [
      "トレーニング0終了\n",
      "トレーニング1終了\n",
      "トレーニング2終了\n",
      "トレーニング3終了\n",
      "トレーニング4終了\n",
      "トレーニング5終了\n",
      "トレーニング6終了\n",
      "トレーニング7終了\n",
      "トレーニング8終了\n",
      "トレーニング9終了\n"
     ]
    }
   ],
   "source": [
    "from gensim import models\n",
    "model = models.Doc2Vec()\n",
    "model.build_vocab(sentence)\n",
    "\n",
    "for _ in range(10):\n",
    "    model.train(sentence)\n",
    "    print(\"トレーニング\" + str(_) + \"終了\")"
   ]
  },
  {
   "cell_type": "code",
   "execution_count": 5,
   "metadata": {
    "collapsed": false
   },
   "outputs": [],
   "source": [
    "# model.vocab.keys()"
   ]
  },
  {
   "cell_type": "code",
   "execution_count": 6,
   "metadata": {
    "collapsed": false
   },
   "outputs": [
    {
     "data": {
      "text/plain": [
       "[('文章', 0.692463219165802),\n",
       " ('楽天', 0.6528801918029785),\n",
       " ('普通', 0.6480002999305725),\n",
       " ('向こう', 0.6456928253173828),\n",
       " ('ruby', 0.63555908203125),\n",
       " ('秋', 0.6347962021827698),\n",
       " ('銀座', 0.6258277297019958),\n",
       " ('最後', 0.6216842532157898),\n",
       " ('大学', 0.6193414926528931),\n",
       " ('写真', 0.6091267466545105)]"
      ]
     },
     "execution_count": 6,
     "metadata": {},
     "output_type": "execute_result"
    }
   ],
   "source": [
    "model.most_similar(\"リクルート\")"
   ]
  },
  {
   "cell_type": "code",
   "execution_count": 7,
   "metadata": {
    "collapsed": false
   },
   "outputs": [
    {
     "name": "stdout",
     "output_type": "stream",
     "text": [
      "無理 だ ー \n",
      "\n",
      "84% 無料 で 遊ん だ ー \n",
      "\n",
      "72% NSTimer が 動か ない 。 なんで だ ー 。 \n",
      "\n",
      "71% これ 、 デジャブ だ 　 RT @ hbkr : あけ まし て おめでとう ござい ます \n",
      "\n",
      "68% 今日 は 、 ビール だ ぞ ー ！ \n",
      "\n",
      "68% だ だ し 、 Template 系 が 入ら ない なぁ 。 \n",
      "\n",
      "66% 二 次 多項式 じゃ なく て も 、 この 命題 成り立っ て くれ ー 。 \n",
      "\n",
      "66% Charles 買っ た ー \n",
      "\n",
      "65% ネット が 遅い 。 なんで だ ー \n",
      "\n",
      "65% 駄目 だ camphchat が 動か ない 。 なんで だ \n",
      "\n",
      "64% 紅白 が はじまっ た みたい だ \n",
      "\n"
     ]
    }
   ],
   "source": [
    "base = \"text_1\"\n",
    "key, index = base.split(\"_\")\n",
    "print(df.ix[int(index)][key])\n",
    "for offset, similality in model.docvecs.most_similar(base):\n",
    "    doctag = model.docvecs.offset2doctag[offset]\n",
    "    key, index = doctag.split(\"_\")\n",
    "    print(\"%s%%\"%int(similality*100),df.ix[int(index)][key])"
   ]
  },
  {
   "cell_type": "code",
   "execution_count": 8,
   "metadata": {
    "collapsed": false
   },
   "outputs": [],
   "source": [
    "from scipy.cluster.vq import vq, kmeans, whiten\n",
    "centroid, destortion = kmeans(model.docvecs, 10 , iter=100, thresh=1e-05)"
   ]
  },
  {
   "cell_type": "code",
   "execution_count": 9,
   "metadata": {
    "collapsed": false
   },
   "outputs": [
    {
     "name": "stdout",
     "output_type": "stream",
     "text": [
      "[7 4 0 6 7]\n",
      "[ 0.30013314  0.36538607  0.22260441  0.28419262  0.30240995]\n"
     ]
    }
   ],
   "source": [
    "labels, dist = vq(model.docvecs, centroid)\n",
    "print(labels[:5]) # どのクラスターに入ってるか\n",
    "print(dist[:5]) # 中心からの距離"
   ]
  },
  {
   "cell_type": "code",
   "execution_count": 10,
   "metadata": {
    "collapsed": false
   },
   "outputs": [
    {
     "name": "stdout",
     "output_type": "stream",
     "text": [
      "0 スタート\n",
      "77% 計算中・・・\n",
      "73% 聴き終わった\n",
      "69% おはよー！ 8h 31m ねたよ！ January 25, 2016 at 01:09AM →January 25, 2016 at 09:52AM\n",
      "76% フェスは負けまくってる\n",
      "\n",
      "\n",
      "1 スタート\n",
      "81% えっーっと、やこです！！！\n",
      "80% タイガーナッツ気になる\n",
      "61% LINEの鍵のやつ、LINEでできるようになったってのもやばいけど、そもそも写真から鍵作れるの、そもそもやばくない？\n",
      "\n",
      "技術的には可能だった、ってことよね\n",
      "71% みんな電子タバコにしてくんないかな\n",
      "\n",
      "\n",
      "2 スタート\n",
      "58% ウィスキー！\n",
      "71% 鍵って、鍵番号だけで複製できるのか。\n",
      "\n",
      "写真から、3Dを再現して、作るんかと思った。\n",
      "70% プロダクションでObjC→Swiftにしたところってあるのかな。\n",
      "66% 企業としては、HackerNews的なキュレーションで良いと思うんだな。\n",
      "\n",
      "今週の社員が、気になった記事みたいなのみたいなまとめとかで。\n",
      "\n",
      "そこに質の高い記事を社員が書いたらピックアップしておく。\n",
      "\n",
      "\n",
      "3 スタート\n",
      "61% おはよー！ 6h 28m ねたよ！ January 27, 2016 at 01:19AM →January 27, 2016 at 08:06AM\n",
      "69% おはよー！ 5h 57m ねたよ！ January 26, 2016 at 01:34AM →January 26, 2016 at 07:46AM\n",
      "67% おはよー！ 6h 49m ねたよ！ January 23, 2016 at 02:25AM →January 23, 2016 at 09:37AM\n",
      "72% おはよー！ 7h 53m ねたよ！ January 22, 2016 at 01:10AM →January 22, 2016 at 09:21AM\n",
      "\n",
      "\n",
      "4 スタート\n",
      "63% 人間よ、24に、分類されよ！\n",
      "66% POSTDのパーカーはポッドキャストに出ればもらえるらしい\n",
      "73% フェス、カンペキカラダ、勝った！！\n",
      "71% 大麦にはグルテンが入ってない！\n",
      "\n",
      "\n",
      "5 スタート\n",
      "74% ぶっちゃけ感w\n",
      "70% 個人でやってるブログが良いことが多いことが多い気がする。それで会社に興味持つ流れのほうが自然だわなぁ、って気はする。\n",
      "72% という超ど素人の意見です\n",
      "73% 3gの塩って結構だよね？\n",
      "\n",
      "\n",
      "6 スタート\n",
      "71% えい、 `from scipy.cluster.vq import vq, kmeans, whiten`\n",
      "78% フェスや！フェス！\n",
      "74% 日経平均さん！\n",
      "70% 修正→修造\n",
      "\n",
      "\n",
      "7 スタート\n",
      "69% 無理だー\n",
      "69% k-meansやるぞ\n",
      "79% あぁ、またフェス行きたい\n",
      "71% softmaxを使えば0にはならないからクロスエントロピー大丈夫なのか\n",
      "\n",
      "\n",
      "8 スタート\n",
      "79% あとはOSSの活動報告ぐらいのほうが、良さそう\n",
      "70% どういう人をとりたいかでテーマ変わってきそうだから、個人で分散させて、有名人を複数人作るほうが良さそうな気はしている\n",
      "78% Theanoで線形回帰も出来たー！\n",
      "58% Theanoは最適化関数が用意されてないので、自分でパラメーターの更新を書かないといけないのがめんどくさい（やってない）。でもチュートリアルが一番充実していそうで、いろんなNNを学ぶには使えたほうが良さそう。\n",
      "\n",
      "\n",
      "9 スタート\n",
      "51% ねむいー\n",
      "64% Doc2Vecの基底ベクトルはWord2Vecのそれと一緒っぽいな\n",
      "76% やこちゃんの趣味w\n",
      "75% やこちゃんのMCやばいw\n",
      "\n",
      "\n"
     ]
    }
   ],
   "source": [
    "df = pd.read_csv(\"../data/tweets.csv\")\n",
    "for label in range(10):\n",
    "    print(label,\"スタート\")\n",
    "    print_i = 0\n",
    "    for i in range(model.docvecs.count):\n",
    "        if labels[i] == label:\n",
    "            dist_vec = vq([model.docvecs[i]], centroid)\n",
    "            doctag = model.docvecs.offset2doctag[i]\n",
    "            key, index = doctag.split(\"_\")\n",
    "            if int((1.-dist[i])*100) and not pd.isnull(df.ix[int(index)][key]):\n",
    "#                 print(dist_vec)\n",
    "                print(\"%s%%\"%int((1.-dist[i])*100),df.ix[int(index)][key].strip(\"\\t\\n\"))\n",
    "                print_i +=1\n",
    "                if print_i > 3 : \n",
    "                    print(\"\\n\");break;"
   ]
  },
  {
   "cell_type": "code",
   "execution_count": 11,
   "metadata": {
    "collapsed": false
   },
   "outputs": [],
   "source": [
    "import numpy as np\n",
    "sim_matrix = []\n",
    "size = model.docvecs.count\n",
    "for i in range(model.docvecs.count):\n",
    "    sim_vec = np.zeros(size)\n",
    "    for word_index, sim_val in model.docvecs.most_similar(i):\n",
    "        sim_vec[word_index] = sim_val\n",
    "    sim_matrix.append(sim_vec)"
   ]
  },
  {
   "cell_type": "code",
   "execution_count": 12,
   "metadata": {
    "collapsed": false
   },
   "outputs": [],
   "source": [
    "from sklearn.decomposition import TruncatedSVD\n",
    "dimension = 100\n",
    "lsa = TruncatedSVD(dimension)\n",
    "info_matrix = lsa.fit_transform(sim_matrix)"
   ]
  },
  {
   "cell_type": "code",
   "execution_count": 13,
   "metadata": {
    "collapsed": false
   },
   "outputs": [],
   "source": [
    "centroid, destortion = kmeans(info_matrix, 10 , iter=100, thresh=1e-05)"
   ]
  },
  {
   "cell_type": "code",
   "execution_count": 14,
   "metadata": {
    "collapsed": false
   },
   "outputs": [
    {
     "name": "stdout",
     "output_type": "stream",
     "text": [
      "[8 0 8 8 8]\n",
      "[ 1.13863846  1.08749985  0.82436281  0.19778844  0.47748427]\n"
     ]
    }
   ],
   "source": [
    "labels, dist = vq(info_matrix, centroid)\n",
    "print(labels[:5]) # どのクラスターに入ってるか\n",
    "print(dist[:5]) # 中心からの距離"
   ]
  },
  {
   "cell_type": "code",
   "execution_count": 15,
   "metadata": {
    "collapsed": false
   },
   "outputs": [
    {
     "name": "stdout",
     "output_type": "stream",
     "text": [
      "0 スタート\n",
      "-8%「 人間よ、24に、分類されよ！ 」\n",
      "37%「 えっーっと、やこです！！！ 」\n",
      "-109%「 ウィスキー！ 」\n",
      "43%「 プロダクションでObjC→Swiftにしたところってあるのかな。 」\n",
      "-3%「 ランニング→水泳→自炊→スプラトゥーン 」\n",
      "\n",
      "\n",
      "1 スタート\n",
      "3%「 macのプロセスを監視して、デイリーでレポーティングしてくれるサービス欲しい。今日はXcodeと4時間、chromeと2時間みたいな。顔認識して、画面の前にいる時だけトラッキングとかして欲しいけど、省メモリで。 」\n",
      "15%「 MBA捕獲。これで青色申告できなかったらツライ。\n",
      "\n",
      "がんばって、青色やろう。10だと、白色と変わらなそうだし。 」\n",
      "2%「 明日、親知らずを抜くという、ミッションが。。。 」\n",
      "-22%「 はじめまして。そして、はじめまして。 」\n",
      "21%「 パソコンが熱すぎてやばい。。。おおお 」\n",
      "\n",
      "\n",
      "2 スタート\n",
      "15%「 公式の見解 」\n",
      "19%「 PycharmのiPytnon notebookのundoingが予想外の動きをして、何回もめっちゃ戻ってる。。。\n",
      "\n",
      "やっぱ、webでコード書くか 」\n",
      "8%「 夢で確率論を勉強していた\n",
      "\n",
      "赤色の本だったけど、そんなのあったっけ 」\n",
      "20%「 WildCardのadhocでiTCのバリデーション通るって・・・ 」\n",
      "18%「 家の近くに、温泉の湧き水ほしい 」\n",
      "\n",
      "\n",
      "3 スタート\n",
      "-6%「 なんでや 」\n",
      "-2%「 とりあえずスクワットと戦士のポーズしておいた 」\n",
      "37%「 S3でhubotってどういうことだろ 」\n",
      "-40%「 深層っていう日本語訳あってるか。層じゃなくね 」\n",
      "16%「 @i2key おお、これすごい！いろいろいい感じのがはいってる！ 」\n",
      "\n",
      "\n",
      "4 スタート\n",
      "10%「 フェス、カンペキカラダ、勝った！！ 」\n",
      "26%「 お亡くなりになられた。ありがとう、TestFlight！\n",
      "\n",
      "iTunesの便利だけど、使い道が違うから、次は、fabric.ioかなと思ってるよ。 」\n",
      "27%「 HYDEあとちょっとで、どらげない、やった 」\n",
      "-27%「 うごけ、スタバ 」\n",
      "-14%「 PyCharm、なんで、workonせんのや？ 」\n",
      "\n",
      "\n",
      "5 スタート\n",
      "22%「 ねむいー 」\n",
      "-5%「 BABAQおもろい 」\n",
      "22%「 1,2月が一番寒いのかー 」\n",
      "51%「 CTOナイトにいくー 」\n",
      "51%「 この空気の悪さをなんとかしてくれー 」\n",
      "\n",
      "\n",
      "6 スタート\n",
      "10%「 フェスは負けまくってる 」\n",
      "-6%「 めっちゃおもろかった 」\n",
      "47%「 そういえば、Go言語ってどこ行った？生きてる？ 」\n",
      "-54%「 チャリに乗ってるうめちゃんに出会った 」\n",
      "39%「 昨日ふくめて、良き1日でした。楽しかった！ 」\n",
      "\n",
      "\n",
      "7 スタート\n",
      "46%「 おはよー！ 6h 28m ねたよ！ January 27, 2016 at 01:19AM →January 27, 2016 at 08:06AM 」\n",
      "31%「 おはよー！ 5h 57m ねたよ！ January 26, 2016 at 01:34AM →January 26, 2016 at 07:46AM 」\n",
      "30%「 おはよー！ 6h 49m ねたよ！ January 23, 2016 at 02:25AM →January 23, 2016 at 09:37AM 」\n",
      "31%「 おはよー！ 7h 53m ねたよ！ January 22, 2016 at 01:10AM →January 22, 2016 at 09:21AM 」\n",
      "53%「 おはよー！ 5h 58m ねたよ！ January 21, 2016 at 01:38AM →January 21, 2016 at 07:52AM 」\n",
      "\n",
      "\n",
      "8 スタート\n",
      "-13%「 無理だー 」\n",
      "17%「 計算中・・・ 」\n",
      "80%「 えい、 `from scipy.cluster.vq import vq, kmeans, whiten` 」\n",
      "52%「 k-meansやるぞ 」\n",
      "31%「 Doc2Vecの基底ベクトルはWord2Vecのそれと一緒っぽいな 」\n",
      "\n",
      "\n",
      "9 スタート\n",
      "67%「 アーユルベーダ的には牛乳は飲むんだな。ホットだけっぽいけど。 」\n",
      "57%「 脳を動かすのは難しい 」\n",
      "67%「 ITスキル足りてないベンチャーをサポートする顧問みたいな仕事してみたい\n",
      "\n",
      "たいしてレベルは高くないけど、必要最低限のところまでは持っていけそう\n",
      "\n",
      "コードを書くエンジニアが必要されがちだけど、ベンチャー的にはオーバービューできる人かまず必要だと思う 」\n",
      "27%「 こっちの略が真ならば、もしドラは、もしマネじゃないかい 」\n",
      "74%「 カゼインもやっぱりあんまり良くないみたいなので、最近は乳製品は積極的には取らず、バターはギーにしてます 」\n",
      "\n",
      "\n"
     ]
    }
   ],
   "source": [
    "df = pd.read_csv(\"../data/tweets.csv\")\n",
    "for label in range(10):\n",
    "    print(label,\"スタート\")\n",
    "    print_i = 0\n",
    "    for i in range(model.docvecs.count):\n",
    "        if labels[i] == label:\n",
    "            doctag = model.docvecs.offset2doctag[i]\n",
    "            key, index = doctag.split(\"_\")\n",
    "            if int((1.-dist[i])*100) and not pd.isnull(df.ix[int(index)][key]):\n",
    "#                 print(dist_vec)\n",
    "                print(\"%s%%「\"%int((1.-dist[i])*100),df.ix[int(index)][key].strip(\"\\t\\n\"),\"」\")\n",
    "                print_i +=1\n",
    "                if print_i > 4 : break;\n",
    "    print(\"\\n\");"
   ]
  },
  {
   "cell_type": "code",
   "execution_count": 16,
   "metadata": {
    "collapsed": true
   },
   "outputs": [],
   "source": [
    "import sklearn.decomposition\n",
    "pca = sklearn.decomposition.PCA(n_components = 2)  # 主成分分析オブジェクトの作成\n",
    "pca.fit(info_matrix)                       # 主成分分析の実行\n",
    "transformed = pca.transform(info_matrix)   # データに対して削減後のベクトルを生成"
   ]
  },
  {
   "cell_type": "code",
   "execution_count": 29,
   "metadata": {
    "collapsed": false
   },
   "outputs": [
    {
     "name": "stdout",
     "output_type": "stream",
     "text": [
      "8423\n",
      "8423\n",
      "-0.0394479139388 0.0284205229064\n"
     ]
    },
    {
     "data": {
      "image/png": "[encoded data removed]",
      "text/plain": [
       "<matplotlib.figure.Figure at 0x114f736d8>"
      ]
     },
     "metadata": {},
     "output_type": "display_data"
    }
   ],
   "source": [
    "%matplotlib inline\n",
    "\n",
    "import matplotlib.pyplot as plt\n",
    "\n",
    "print(len(transformed))\n",
    "print(model.docvecs.count)\n",
    "print(transformed[0][0],transformed[0][1])\n",
    "\n",
    "colors = [\"red\", \"blue\", \"green\", \"yellow\", \"black\", \"white\", \"darkgray\",\"magenta\", \"cyan\", \"lightgray\"]\n",
    "\n",
    "for label in range(10):\n",
    "    for i in range(model.docvecs.count):\n",
    "        if labels[i] == label:\n",
    "            plt.scatter(transformed[i][0], transformed[i][1], color=colors[label], marker=\"o\", label=str(i))\n",
    "            \n",
    "plt.show()"
   ]
  },
  {
   "cell_type": "code",
   "execution_count": 31,
   "metadata": {
    "collapsed": false
   },
   "outputs": [
    {
     "name": "stdout",
     "output_type": "stream",
     "text": [
      "3%「 macのプロセスを監視して、デイリーでレポーティングしてくれるサービス欲しい。今日はXcodeと4時間、chromeと2時間みたいな。顔認識して、画面の前にいる時だけトラッキングとかして欲しいけど、省メモリで。 」\n",
      "15%「 MBA捕獲。これで青色申告できなかったらツライ。\n",
      "\n",
      "がんばって、青色やろう。10だと、白色と変わらなそうだし。 」\n",
      "2%「 明日、親知らずを抜くという、ミッションが。。。 」\n",
      "-22%「 はじめまして。そして、はじめまして。 」\n",
      "21%「 パソコンが熱すぎてやばい。。。おおお 」\n",
      "17%「 原点回帰。 」\n",
      "-26%「 レスポンシブやで。レスポンシブ。 」\n",
      "25%「 しまった。tagじゃなくて、branchにしておけばよかった。。。 」\n",
      "39%「 ShareKit、Twitterframeworkとか、SocialFrameworkとか使ってないのか。。。 」\n",
      "51%「 backlogよ、markdownに対応してください。ほんとに。まじで。対応してほしい。 」\n",
      "33%「 cocos2dxで、ローカライズってどうすれば。。。 」\n",
      "54%「 アーロンチェア買っといてよかったー。やる気の度合いが違う。むしろ、お家のほうが好き。 」\n",
      "22%「 おいおい。。。。 」\n",
      "63%「 オリジン弁当はピンク色がだめ。けど、今度買ってみよう。 」\n",
      "19%「 そういえば、海外から取り寄せた、ヘッドフォンのコードがぶらーとならないやつが、なかなか届きません。。。お金払ってるのに、、どゆこと。 」\n",
      "59%「 SonicMaxProええなー。低音きれい。 」\n",
      "54%「 サーバー苦手。 」\n",
      "9%「 すっごいねた。 」\n",
      "31%「 Validate通らない。。。。 」\n",
      "56%「 C++のテンプレートが何故か使えない。Linkerエラーってなる？何故に。。。 」\n",
      "65%「 C++が分かりませんorz。。。 」\n",
      "43%「 au予約できない。。。 」\n",
      "60%「 なんか、簡単な対処法は。。。 」\n",
      "40%「 Appleのばかー。。。。あるていど、相対レイアウトで組んでるから、まだマシだが。。。あぁ、もう！これ、まずいぞ。。。。ばかー。。。 」\n",
      "51%「 あれ？僕も、_はアンスコって呼びます。。。？？ 」\n",
      "34%「 retina、外部ディスプレイをつなげると解像度が変わるのやめて欲しい。。。。 」\n",
      "43%「 昔を思い出して。懐かしいなぁ、なんて。いつしか、忘れて行って、また戻ってきて。嬉しいやら、またさみしいやら。変わらない人は変わらないままで。変わろうとしてる人も、きっとそのままで。色づくことはまた悲しいやら。白に青を。そして白色のペンキ。抜け出すことはきっといつでもできるんだと。 」\n",
      "55%「 サンプルコードが動かないなぁ。。。。 」\n",
      "10%「 最愛。 」\n",
      "17%「 先取りハッカソン。 」\n",
      "23%「 facebookダイヤログよ。。。。 」\n",
      "54%「 そういえば、In Reviewになって、土日挟むのか。。。ショック。 」\n",
      "57%「 海外はエラい、質の高いゲームを無料で求めるのねぇ。。。 」\n",
      "49%「 UIAlertってviewController乗っとるんだっけ。。。レイヤー的には一番上だからなのかな。。。。 」\n",
      "-70%「 しかも、サウンドボックスでは動作していたのに、リリースされたら、動かないとか。おい、Appleさーん。。。。 」\n",
      "-25%「 あぁ、Unity、AppendしてもInfo.plist変わるんだ。。。あれれ？？これ、残念すぎるぞ。。 」\n",
      "26%「 あぁ、まさか。。。 」\n",
      "38%「 と思ったら。。。片方が動くと、片方が動かなくなる。なんなの。 」\n",
      "36%「 @KariyaShotaro まじか。。結局、BetterTouchToolをつかって、三本指のタップとかで、すすむもどるをやってるんだけどねぇ。。。 」\n",
      "61%「 ハッカソンってハック＋マラソンの略なんだ。しらなかった。。。 」\n",
      "40%「 パフォーマンスが悪すぎる。。。。。 」\n",
      "21%「 ふむ。 」\n",
      "64%「 CCFlipXってanimationじゃないんだ。。まぁ、いっか。 」\n",
      "72%「 ってことで、cocos2dの本を買った。約22ドル、1600円ぐらい？やっす。 」\n",
      "16%「 インストールが終わらん。。。 」\n",
      "33%「 先月と今月クレジットカード使い過ぎで、一つクレジットカード止まってる。。。 」\n",
      "55%「 なるほど。褒めるということ。 」\n",
      "15%「 iPad欲しい。しかし、お金ないなぁ。。。 」\n",
      "59%「 GREEの登録ができない。。。 」\n",
      "58%「 ありゃぁ、またbot止まってる。。。なんでじゃ。 」\n",
      "3%「 えっ、Javaってstringでswitchできないの・・？メンドクセー。 」\n",
      "51%「 あれ？javascript実行後（onload後）のwebページを取得したいんだが、どうするんだ。なんか、ソースしか表示されなくて困った。。。 」\n",
      "44%「 なぁーMobile Safariでaudioの使い方がわからん。。。 」\n",
      "56%「 enumってなんだ。勝手に、定数をほかと被らないように定義してくれるの？ 」\n",
      "34%「 twitterのDBってどうなってんだろ。ってか、友達フィードってどうやってつくるんだ。。。。 」\n",
      "66%「 ディスクトップ効果はみれないのかぁ。。。残念。。 」\n",
      "8%「 やばい、スウェーデン人はイケメンだった。学者顔だけども。英語勉強しないと。。コミュニケーション！ 」\n",
      "30%「 defaultsはNSArrayでかえってくるのかぁ。。。。！！ 」\n",
      "-8%「 Twitter ってリスト便利！と思ってたら、リツイートは表示されないのね。。。 」\n",
      "\n",
      "\n"
     ]
    }
   ],
   "source": [
    "for i in range(model.docvecs.count):\n",
    "    if labels[i] == 1:\n",
    "        doctag = model.docvecs.offset2doctag[i]\n",
    "        key, index = doctag.split(\"_\")\n",
    "        if int((1.-dist[i])*100) and not pd.isnull(df.ix[int(index)][key]):\n",
    "#                 print(dist_vec)\n",
    "            print(\"%s%%「\"%int((1.-dist[i])*100),df.ix[int(index)][key].strip(\"\\t\\n\"),\"」\")\n",
    "            print_i +=1\n",
    "            if print_i > 100 : break;\n",
    "print(\"\\n\");"
   ]
  },
  {
   "cell_type": "code",
   "execution_count": null,
   "metadata": {
    "collapsed": true
   },
   "outputs": [],
   "source": []
  }
 ],
 "metadata": {
  "kernelspec": {
   "display_name": "Python 3",
   "language": "python",
   "name": "python3"
  },
  "language_info": {
   "codemirror_mode": {
    "name": "ipython",
    "version": 3
   },
   "file_extension": ".py",
   "mimetype": "text/x-python",
   "name": "python",
   "nbconvert_exporter": "python",
   "pygments_lexer": "ipython3",
   "version": "3.4.3"
  }
 },
 "nbformat": 4,
 "nbformat_minor": 0
}
