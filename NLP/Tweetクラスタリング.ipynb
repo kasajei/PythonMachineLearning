{
 "cells": [
  {
   "cell_type": "code",
   "execution_count": 1,
   "metadata": {
    "collapsed": false
   },
   "outputs": [
    {
     "name": "stdout",
     "output_type": "stream",
     "text": [
      "python が 大好き です \n",
      "\n",
      "無理 だ ー \n",
      "\n",
      "人間 よ 、 24 に 、 分類 さ れよ ！ \n",
      "\n",
      "計算 中 ・ ・ ・ \n",
      "\n",
      "えい 、 ` from scipy . cluster . vq import vq , kmeans , whiten ` \n",
      "\n",
      "k - means やる ぞ \n",
      "\n",
      "17 件 の コメント https :// t . co / 4 wBdeSUFov “ Rails エンジニア に 役立つ Jupyter Notebook と iRuby - クック パッド 開発 者 ブログ ” https :// t . co / gn 3 VupaJH 1 \n",
      "\n",
      "1 時間 で 配送 できる 理由 が わから ん https :// t . co / 9 q 6 R 0 jnR 4 D \n",
      "\n",
      "お は よー ！ 6 h 28 m ね た よ ！ January 27 , 2016 at 01 : 19 AM → January 27 , 2016 at 08 : 06 AM \n",
      "\n",
      "これ は 楽しみ すぎる やろ / “ パーフェクト ボディ を 目指し て ( １ 日 経過 ） - alwaysneet な 毎日 ” https :// t . co / ounxQFuw 7 W \n",
      "\n",
      "ねむい ー \n",
      "\n",
      "\" Microsoft が 機械 学習 ツール キット CNTK を GitHub に 移し MIT ライセンス を 適用 \" # tech # feedly https :// t . co / G 8 iqMk 5 q 44 \n",
      "\n"
     ]
    }
   ],
   "source": [
    "import pandas as pd\n",
    "import MeCab\n",
    "from gensim import models\n",
    "\n",
    "df = pd.read_csv(\"../data/tweets.csv\")\n",
    "mecab = MeCab.Tagger (\"-Owakati\")\n",
    "print(mecab.parse(\"pythonが大好きです\"))\n",
    "\n",
    "df = df[pd.isnull(df.retweeted_status_id)]\n",
    "df = df[pd.isnull(df.in_reply_to_status_id)]\n",
    "\n",
    "for index, row in df.iterrows():\n",
    "    if not pd.isnull(row.text):\n",
    "        df.set_value(index, \"text\", mecab.parse(row[\"text\"]))        \n",
    "        \n",
    "for index, row in df.iterrows():\n",
    "    if not pd.isnull(row.text):\n",
    "        print(row.text)\n",
    "    if index > 10 : break;"
   ]
  },
  {
   "cell_type": "code",
   "execution_count": 2,
   "metadata": {
    "collapsed": true
   },
   "outputs": [],
   "source": [
    "df.to_csv(\"../data/formatted_tweets.csv\")"
   ]
  },
  {
   "cell_type": "code",
   "execution_count": 3,
   "metadata": {
    "collapsed": false
   },
   "outputs": [
    {
     "name": "stdout",
     "output_type": "stream",
     "text": [
      "[LabeledSentence(words=['無理', 'だ', 'ー'], tags=['text_1']), LabeledSentence(words=['人間', 'よ', '、', '24', 'に', '、', '分類', 'さ', 'れよ', '！'], tags=['text_2']), LabeledSentence(words=['計算', '中', '・', '・', '・'], tags=['text_3']), LabeledSentence(words=['えい', '、', '`', 'from', 'scipy', '.', 'cluster', '.', 'vq', 'import', 'vq', ',', 'kmeans', ',', 'whiten', '`'], tags=['text_4']), LabeledSentence(words=['k', '-', 'means', 'やる', 'ぞ'], tags=['text_5'])]\n"
     ]
    },
    {
     "data": {
      "text/plain": [
       "16435"
      ]
     },
     "execution_count": 3,
     "metadata": {},
     "output_type": "execute_result"
    }
   ],
   "source": [
    "import itertools\n",
    "class LabeledLineSentence(object):\n",
    "    def __init__(self, df):\n",
    "        self.df = df\n",
    "\n",
    "    def __iter__(self):\n",
    "        for index, row in self.df.iterrows():            \n",
    "            yield models.doc2vec.LabeledSentence(row[\"text\"].split(), ['text_%s' % index])\n",
    "            \n",
    "\n",
    "sentence = LabeledLineSentence(df)\n",
    "print(list(sentence)[:5])\n",
    "len(df)"
   ]
  },
  {
   "cell_type": "code",
   "execution_count": 4,
   "metadata": {
    "collapsed": false
   },
   "outputs": [
    {
     "name": "stdout",
     "output_type": "stream",
     "text": [
      "トレーニング0終了\n",
      "トレーニング1終了\n",
      "トレーニング2終了\n",
      "トレーニング3終了\n",
      "トレーニング4終了\n",
      "トレーニング5終了\n",
      "トレーニング6終了\n",
      "トレーニング7終了\n",
      "トレーニング8終了\n",
      "トレーニング9終了\n"
     ]
    }
   ],
   "source": [
    "from gensim import models\n",
    "model = models.Doc2Vec()\n",
    "model.build_vocab(sentence)\n",
    "\n",
    "for _ in range(10):\n",
    "    model.train(sentence)\n",
    "    print(\"トレーニング\" + str(_) + \"終了\")"
   ]
  },
  {
   "cell_type": "code",
   "execution_count": 26,
   "metadata": {
    "collapsed": false
   },
   "outputs": [],
   "source": [
    "# model.vocab.keys()"
   ]
  },
  {
   "cell_type": "code",
   "execution_count": 5,
   "metadata": {
    "collapsed": false
   },
   "outputs": [
    {
     "data": {
      "text/plain": [
       "[('さくら', 0.4697413146495819),\n",
       " ('グレー', 0.4638863205909729),\n",
       " ('クリエイター', 0.44836190342903137),\n",
       " ('法則', 0.42502859234809875),\n",
       " ('アマゾン', 0.4250173270702362),\n",
       " ('Backlog', 0.42153939604759216),\n",
       " ('特集', 0.4198557734489441),\n",
       " ('サイバーエージェント', 0.4193626046180725),\n",
       " ('株式会社', 0.41841578483581543),\n",
       " ('TestFlight', 0.41819602251052856)]"
      ]
     },
     "execution_count": 5,
     "metadata": {},
     "output_type": "execute_result"
    }
   ],
   "source": [
    "model.most_similar(\"リクルート\")"
   ]
  },
  {
   "cell_type": "code",
   "execution_count": 6,
   "metadata": {
    "collapsed": false
   },
   "outputs": [
    {
     "name": "stdout",
     "output_type": "stream",
     "text": [
      "無理 だ ー \n",
      "\n",
      "71% 無料 で 遊ん だ ー \n",
      "\n",
      "64% 徐々に 英語 に なっ て いく ぜ ー \n",
      "\n",
      "63% wercker 便利 だ 。 無料 だ 。 \n",
      "\n",
      "62% なんと ！ cRT @ yoichineji : cocos 2 d - html 5 v 2 . 0 が リリース さ れ た よう だ ー \n",
      "\n",
      "61% だ ー ぱん の リバー シ だ 。 こういう キャラ 戦略 よい なぁ 。 / “ Connecting to the iTunes Store .” http :// t . co / 6 l 7 VAkr 9 Jd \n",
      "\n",
      "61% 稼ぐ ぞ ー 。 \n",
      "\n",
      "59% アドビ 製品 ほしい ！ と 思っ たら 高 すぎ だろ ． あぁ ー で も みんな あれ だけ 買っ てる って こと は それ だけ いい 商品 な ん だろ う なー ． いや ， そんな お金 ない ！ \n",
      "\n",
      "59% ビール 部 自主トレ だ と ー ！ \n",
      "\n",
      "58% 難しい です \n",
      "\n",
      "57% イカ 電話 だ よ https :// t . co / gG 38 UfpUEt \n",
      "\n"
     ]
    }
   ],
   "source": [
    "base = \"text_1\"\n",
    "key, index = base.split(\"_\")\n",
    "print(df.ix[int(index)][key])\n",
    "for offset, similality in model.docvecs.most_similar(base):\n",
    "    doctag = model.docvecs.offset2doctag[offset]\n",
    "    key, index = doctag.split(\"_\")\n",
    "    print(\"%s%%\"%int(similality*100),df.ix[int(index)][key])"
   ]
  },
  {
   "cell_type": "code",
   "execution_count": 7,
   "metadata": {
    "collapsed": false
   },
   "outputs": [],
   "source": [
    "from scipy.cluster.vq import vq, kmeans, whiten\n",
    "centroid, destortion = kmeans(model.docvecs, 10 , iter=100, thresh=1e-05)"
   ]
  },
  {
   "cell_type": "code",
   "execution_count": 8,
   "metadata": {
    "collapsed": false
   },
   "outputs": [
    {
     "name": "stdout",
     "output_type": "stream",
     "text": [
      "[4 9 6 8 7]\n",
      "[ 0.46845675  0.45421341  0.26098078  0.51132739  0.38723773]\n"
     ]
    }
   ],
   "source": [
    "labels, dist = vq(model.docvecs, centroid)\n",
    "print(labels[:5]) # どのクラスターに入ってるか\n",
    "print(dist[:5]) # 中心からの距離"
   ]
  },
  {
   "cell_type": "code",
   "execution_count": 9,
   "metadata": {
    "collapsed": false
   },
   "outputs": [
    {
     "name": "stdout",
     "output_type": "stream",
     "text": [
      "0 スタート\n",
      "72% あぁ、またフェス行きたい\n",
      "71% タイガーナッツ気になる\n",
      "71% なにこれ\n",
      "72% おはよー！ 7h 6m ねたよ！ December 28, 2015 at 02:01AM →December 28, 2015 at 09:16AM\n",
      "\n",
      "\n",
      "1 スタート\n",
      "74% 体力を付ける方法を熱望している\n",
      "71% アーロンチェア最高や\n",
      "73% AppleTVほしいけど、スタバでモテない\n",
      "71% 数学者が解説するコンピューターサイエンスの本とかないかな\n",
      "\n",
      "\n",
      "2 スタート\n",
      "71% 届いたよ！ http://t.co/xBFgoTbVu5\n",
      "76% http://t.co/W5K79n0Hov\n",
      "73% ブートキャンプに飛び入ることになった\n",
      "74% C++で多倍長整数扱うにはどうしたらいいのか\n",
      "\n",
      "\n",
      "3 スタート\n",
      "72% 英語を高速で読めるようになりたい\n",
      "71% 2件のコメント https://t.co/XGPnQucm7V “実例で学ぶDockerハンズオン - Qiita” https://t.co/PLxuMASLGE\n",
      "79% “溶解度 - Wikipedia” https://t.co/leHn71kEWo\n",
      "72% これは / “SimPholders2” https://t.co/xwvCJiyUf2\n",
      "\n",
      "\n",
      "4 スタート\n",
      "72% togglで時間管理していきたい\n",
      "72% 脳を動かすのは難しい\n",
      "74% すげー / “風邪 - Wikipedia” https://t.co/nQY4DaKsV6\n",
      "79% アレクサンダー ステパノフ の プログラミング言論 を Amazon でチェック！ http://t.co/XlZ0nGpbXW @さんから\n",
      "\n",
      "\n",
      "5 スタート\n",
      "71% ZeroPush › Transactional Push Notifications for Developers https://t.co/fjfB2QhhqI\n",
      "72% http://t.co/WAuMJpEjujで登録しても日本の広告出るんやろうか\n",
      "71% Haskel RT @lotz84_: Ocaml https://t.co/8s66iPbdej\n",
      "72% pyenvにPR投げてマージされました\n",
      "\n",
      "\n",
      "6 スタート\n",
      "73% 計算中・・・\n",
      "76% ジョコビッチ https://t.co/h3xZlL9I02\n",
      "85% 体重推移 https://t.co/tIGtdKgzFy\n",
      "74% ほほう！ https://t.co/o0YvmeOZwu\n",
      "\n",
      "\n",
      "7 スタート\n",
      "71% ちょっと読んでみたい\n",
      "71% すごい / “ステビア - Wikipedia” https://t.co/GAOJP72XPu\n",
      "77% 筋肉食堂やばい\n",
      "\n",
      "https://t.co/VTKCidvowu\n",
      "79% https://t.co/eK87DfzKYo\n",
      "\n",
      "\n",
      "8 スタート\n",
      "73% すごい RT MACALLAN(マッカラン) の ザ・マッカラン リフレクション 700ml を Amazon でチェック！ https://t.co/u69l9wlPjk @さんから\n",
      "73% 完全無欠になりたい\n",
      "73% スポーティーさんと、めいちゃんは別々なのか\n",
      "83% 1件のコメント http://t.co/FikPzTcFHe “気功 - Wikipedia” http://t.co/EolPbiiKdn\n",
      "\n",
      "\n",
      "9 スタート\n",
      "74% フェスや！フェス！\n",
      "71% Theanoで線形回帰も出来たー！\n",
      "77% 今日は、indigo la end聞くよね。\n",
      "73% 必需品 https://t.co/cm78He33pu\n",
      "\n",
      "\n"
     ]
    }
   ],
   "source": [
    "df = pd.read_csv(\"../data/tweets.csv\")\n",
    "for label in range(10):\n",
    "    print(label,\"スタート\")\n",
    "    print_i = 0\n",
    "    for i in range(model.docvecs.count):\n",
    "        if labels[i] == label:\n",
    "            dist_vec = vq([model.docvecs[i]], centroid)\n",
    "            doctag = model.docvecs.offset2doctag[i]\n",
    "            key, index = doctag.split(\"_\")\n",
    "            if int((1.-dist[i])*100) > 70 and not pd.isnull(df.ix[int(index)][key]):\n",
    "#                 print(dist_vec)\n",
    "                print(\"%s%%\"%int((1.-dist[i])*100),df.ix[int(index)][key].strip(\"\\t\\n\"))\n",
    "                print_i +=1\n",
    "                if print_i > 3 : \n",
    "                    print(\"\\n\");break;"
   ]
  },
  {
   "cell_type": "code",
   "execution_count": 33,
   "metadata": {
    "collapsed": false
   },
   "outputs": [],
   "source": [
    "import numpy as np\n",
    "sim_matrix = []\n",
    "size = model.docvecs.count\n",
    "for i in range(model.docvecs.count):\n",
    "    sim_vec = np.zeros(size)\n",
    "    for word_index, sim_val in model.docvecs.most_similar(i):\n",
    "        sim_vec[word_index] = sim_val\n",
    "    sim_matrix.append(sim_vec)"
   ]
  },
  {
   "cell_type": "code",
   "execution_count": 34,
   "metadata": {
    "collapsed": false
   },
   "outputs": [],
   "source": [
    "from sklearn.decomposition import TruncatedSVD\n",
    "dimension = 100\n",
    "lsa = TruncatedSVD(dimension)\n",
    "info_matrix = lsa.fit_transform(sim_matrix)"
   ]
  },
  {
   "cell_type": "code",
   "execution_count": 35,
   "metadata": {
    "collapsed": false
   },
   "outputs": [],
   "source": [
    "centroid, destortion = kmeans(info_matrix, 10 , iter=100, thresh=1e-05)"
   ]
  },
  {
   "cell_type": "code",
   "execution_count": 36,
   "metadata": {
    "collapsed": false
   },
   "outputs": [
    {
     "name": "stdout",
     "output_type": "stream",
     "text": [
      "[3 3 3 3 3]\n",
      "[ 0.3263844   0.98892408  0.23776124  0.30133668  0.10600836]\n"
     ]
    }
   ],
   "source": [
    "labels, dist = vq(info_matrix, centroid)\n",
    "print(labels[:5]) # どのクラスターに入ってるか\n",
    "print(dist[:5]) # 中心からの距離"
   ]
  },
  {
   "cell_type": "code",
   "execution_count": 43,
   "metadata": {
    "collapsed": false
   },
   "outputs": [
    {
     "name": "stdout",
     "output_type": "stream",
     "text": [
      "0 スタート\n",
      "42%「 おはよー！ 1h 3m ねたよ！ January 11, 2016 at 10:34AM →January 11, 2016 at 11:38AM 」\n",
      "41%「 おはよー！ 7h 46m ねたよ！ November 16, 2015 at 12:22AM →November 16, 2015 at 08:40AM 」\n",
      "59%「 おはよー！ 1h 18m ねたよ！ November 8, 2015 at 08:57AM →November 8, 2015 at 10:17AM 」\n",
      "49%「 おはよー！ 7h 55m ねたよ！ November 8, 2015 at 12:35AM →November 8, 2015 at 08:56AM 」\n",
      "\n",
      "\n",
      "1 スタート\n",
      "57%「 テンソルフロー！ 」\n",
      "76%「 カエル頑張れ！ 」\n",
      "45%「 @iphone_dev_jp 【拡散希望】IQ診断という新作アプリをリリースしました！100ステージの大ボリュームでIQが診断できます！\n",
      "\n",
      "よろしくお願いします！\n",
      "\n",
      "https://t.co/Pgx2qLp2xN https://t.co/ydzvzMujFe 」\n",
      "63%「 そういえば、今使ってるMBPがNVIDIAなので、GPU使えるじゃん！！ 」\n",
      "\n",
      "\n",
      "2 スタート\n",
      "47%「 家の光の改善について\n",
      "明るすぎ！？睡眠の質を高めるために、光について考えよう - kasajeiのブログ\n",
      "https://t.co/4bV6uZ1fns https://t.co/29WRgMTG0u 」\n",
      "45%「 これかな / “ギー（インドAmul社）1L. 通販・販売 - マヤバザール” https://t.co/ZEWTzqasoQ 」\n",
      "47%「 新しいコールハーンを手に入れたので前の修理に出そう 」\n",
      "46%「 睡眠時間は6.5h以上はあんまり意味ないらしいので、6.5hで最適化していきたい 」\n",
      "\n",
      "\n",
      "3 スタート\n",
      "67%「 無理だー 」\n",
      "76%「 計算中・・・ 」\n",
      "69%「 えい、 `from scipy.cluster.vq import vq, kmeans, whiten` 」\n",
      "89%「 k-meansやるぞ 」\n",
      "\n",
      "\n",
      "4 スタート\n",
      "58%「 あぁ、えーっと。60倍多かった。\n",
      "\n",
      "で、7円/月。\n",
      "\n",
      "ロングポーリング使わないと、140円/月。\n",
      "\n",
      "えっ？ 」\n",
      "47%「 これいいんだけど、.git/ファイルの中身が全部入っちゃう。.から始まるフォルダを無視したい / “[Python] botoを使ってS3にファイルを保存する” http://t.co/8UjzINoRFU 」\n",
      "52%「 ハシビロコウさんのランディングページです！iOS/Androidどっちもあるよ #ハシビロコウさん / “ハシビロコウさん - かわいいキャラとおもしろいアクションの無料で遊べるほのぼの育成ゲーム -” http://t.co/qhgNYKpLF2 」\n",
      "54%「 動画あげた / \n",
      "      YouTube - Broadcast Yourself\n",
      "   http://t.co/gxq8RTw 」\n",
      "\n",
      "\n",
      "5 スタート\n",
      "53%「 デイリー kasajei 紙が更新されました！ http://t.co/lT5l2JyY ▸ 本日トップニュースを提供してくれたみなさん： @hummelwalker @amao5 @naopi @fredericrp @hacchan 」\n",
      "\n",
      "\n",
      "6 スタート\n",
      "48%「 散歩中のお父さんとすれ違った 」\n",
      "42%「 突撃！と書いてあるシャモジを持ったエビスさんに出会った 」\n",
      "41%「 たすく→□\n",
      "\n",
      "だん→■\n",
      "\n",
      "だけは登録したいんですが。 」\n",
      "42%「 おおお RT DeNAを去ったニール・ヤングが立ち上げた「N3TWORK」の全貌：日経ビジネスオンライン http://t.co/yMYmQM2wlb 」\n",
      "\n",
      "\n",
      "7 スタート\n",
      "62%「 ゲーデル、エッシャー、バッハ あるいは不思議の環\n",
      "http://t.co/VewPmwyJdb http://t.co/PJt1HRL6K3 」\n",
      "53%「 久しぶりに、金持ち父さん、読みたい 」\n",
      "54%「 あんまり、ジャンクじゃない / “実は体に良い、8つのジャンクフード : カラパイア” http://t.co/OC0Cy3aytS 」\n",
      "46%「 おうおう、TextExpander、サジェストついてるじゃないの。便利 」\n",
      "\n",
      "\n",
      "8 スタート\n",
      "45%「 “日清MCT（エムシーティー）オイル＆パウダー 基本の使い方＆レシピ” https://t.co/ORVRtOupVw 」\n",
      "59%「 “iOS・Android のディープリンク技術のまとめ - 意識低い開発者のBlog” https://t.co/rBR5Ba9ahC 」\n",
      "44%「 5件のコメント https://t.co/KfVuYNl15P “すべての成功法則は要約したら『やれ！』になるという話 - ジブンライフ” https://t.co/tRvuaniHII 」\n",
      "53%「 “Vi-King、放置系育成ゲーム『スイーツパラダイス』を配信開始　登場するスイーツは30個以上 | Social Game Info” http://t.co/KBNvKu9hPm 」\n",
      "\n",
      "\n",
      "9 スタート\n",
      "43%「 カーネルタスクさんなにやってんのん https://t.co/0JDcgaS2y3 」\n",
      "46%「 電子工作なう！\n",
      "\n",
      "手をかざすとゆっくりになるよ！\n",
      "\n",
      "https://t.co/hmqY6Ngu9t http://t.co/NP6jyN69a2 」\n",
      "41%「 どうやら、正しいらしい 」\n",
      "57%「 おみやげに恋人って、さすがばんのさん。いつものところに置いておきますとな。 」\n",
      "\n",
      "\n"
     ]
    }
   ],
   "source": [
    "df = pd.read_csv(\"../data/tweets.csv\")\n",
    "for label in range(10):\n",
    "    print(label,\"スタート\")\n",
    "    print_i = 0\n",
    "    for i in range(model.docvecs.count):\n",
    "        if labels[i] == label:\n",
    "            doctag = model.docvecs.offset2doctag[i]\n",
    "            key, index = doctag.split(\"_\")\n",
    "            if int((1.-dist[i])*100) > 40 and not pd.isnull(df.ix[int(index)][key]):\n",
    "#                 print(dist_vec)\n",
    "                print(\"%s%%「\"%int((1.-dist[i])*100),df.ix[int(index)][key].strip(\"\\t\\n\"),\"」\")\n",
    "                print_i +=1\n",
    "                if print_i > 3 : break;\n",
    "    print(\"\\n\");"
   ]
  },
  {
   "cell_type": "code",
   "execution_count": null,
   "metadata": {
    "collapsed": true
   },
   "outputs": [],
   "source": []
  }
 ],
 "metadata": {
  "kernelspec": {
   "display_name": "Python 3",
   "language": "python",
   "name": "python3"
  },
  "language_info": {
   "codemirror_mode": {
    "name": "ipython",
    "version": 3
   },
   "file_extension": ".py",
   "mimetype": "text/x-python",
   "name": "python",
   "nbconvert_exporter": "python",
   "pygments_lexer": "ipython3",
   "version": "3.4.3"
  }
 },
 "nbformat": 4,
 "nbformat_minor": 0
}
