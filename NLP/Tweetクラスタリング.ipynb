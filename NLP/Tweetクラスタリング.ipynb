{
 "cells": [
  {
   "cell_type": "code",
   "execution_count": 65,
   "metadata": {
    "collapsed": false
   },
   "outputs": [
    {
     "name": "stdout",
     "output_type": "stream",
     "text": [
      "python が 大好き です \n",
      "\n",
      "無理 だ ー \n",
      "\n",
      "人間 よ 、 24 に 、 分類 さ れよ ！ \n",
      "\n",
      "計算 中 ・ ・ ・ \n",
      "\n",
      "えい 、 ` from scipy . cluster . vq import vq , kmeans , whiten ` \n",
      "\n",
      "k - means やる ぞ \n",
      "\n",
      "17 件 の コメント https :// t . co / 4 wBdeSUFov “ Rails エンジニア に 役立つ Jupyter Notebook と iRuby - クック パッド 開発 者 ブログ ” https :// t . co / gn 3 VupaJH 1 \n",
      "\n",
      "1 時間 で 配送 できる 理由 が わから ん https :// t . co / 9 q 6 R 0 jnR 4 D \n",
      "\n",
      "お は よー ！ 6 h 28 m ね た よ ！ January 27 , 2016 at 01 : 19 AM → January 27 , 2016 at 08 : 06 AM \n",
      "\n",
      "これ は 楽しみ すぎる やろ / “ パーフェクト ボディ を 目指し て ( １ 日 経過 ） - alwaysneet な 毎日 ” https :// t . co / ounxQFuw 7 W \n",
      "\n",
      "ねむい ー \n",
      "\n",
      "\" Microsoft が 機械 学習 ツール キット CNTK を GitHub に 移し MIT ライセンス を 適用 \" # tech # feedly https :// t . co / G 8 iqMk 5 q 44 \n",
      "\n"
     ]
    }
   ],
   "source": [
    "import pandas as pd\n",
    "import MeCab\n",
    "from gensim import models\n",
    "\n",
    "df = pd.read_csv(\"../data/tweets.csv\")\n",
    "mecab = MeCab.Tagger (\"-Owakati\")\n",
    "print(mecab.parse(\"pythonが大好きです\"))\n",
    "\n",
    "df = df[pd.isnull(df.retweeted_status_id)]\n",
    "df = df[pd.isnull(df.in_reply_to_status_id)]\n",
    "\n",
    "for index, row in df.iterrows():\n",
    "    if not pd.isnull(row.text):\n",
    "        df.set_value(index, \"text\", mecab.parse(row[\"text\"]))        \n",
    "        \n",
    "for index, row in df.iterrows():\n",
    "    if not pd.isnull(row.text):\n",
    "        print(row.text)\n",
    "    if index > 10 : break;"
   ]
  },
  {
   "cell_type": "code",
   "execution_count": 55,
   "metadata": {
    "collapsed": true
   },
   "outputs": [],
   "source": [
    "df.to_csv(\"../data/formatted_tweets.csv\")"
   ]
  },
  {
   "cell_type": "code",
   "execution_count": 56,
   "metadata": {
    "collapsed": false
   },
   "outputs": [
    {
     "name": "stdout",
     "output_type": "stream",
     "text": [
      "[LabeledSentence(words=['無理', 'だ', 'ー'], tags=['text_1']), LabeledSentence(words=['人間', 'よ', '、', '24', 'に', '、', '分類', 'さ', 'れよ', '！'], tags=['text_2']), LabeledSentence(words=['計算', '中', '・', '・', '・'], tags=['text_3']), LabeledSentence(words=['えい', '、', '`', 'from', 'scipy', '.', 'cluster', '.', 'vq', 'import', 'vq', ',', 'kmeans', ',', 'whiten', '`'], tags=['text_4']), LabeledSentence(words=['k', '-', 'means', 'やる', 'ぞ'], tags=['text_5'])]\n"
     ]
    },
    {
     "data": {
      "text/plain": [
       "16435"
      ]
     },
     "execution_count": 56,
     "metadata": {},
     "output_type": "execute_result"
    }
   ],
   "source": [
    "import itertools\n",
    "class LabeledLineSentence(object):\n",
    "    def __init__(self, df):\n",
    "        self.df = df\n",
    "\n",
    "    def __iter__(self):\n",
    "        for index, row in self.df.iterrows():            \n",
    "            yield models.doc2vec.LabeledSentence(row[\"text\"].split(), ['text_%s' % index])\n",
    "            \n",
    "\n",
    "sentence = LabeledLineSentence(df)\n",
    "print(list(sentence)[:5])\n",
    "len(df)"
   ]
  },
  {
   "cell_type": "code",
   "execution_count": 57,
   "metadata": {
    "collapsed": false
   },
   "outputs": [
    {
     "name": "stdout",
     "output_type": "stream",
     "text": [
      "トレーニング0終了\n",
      "トレーニング1終了\n",
      "トレーニング2終了\n",
      "トレーニング3終了\n",
      "トレーニング4終了\n",
      "トレーニング5終了\n",
      "トレーニング6終了\n",
      "トレーニング7終了\n",
      "トレーニング8終了\n",
      "トレーニング9終了\n"
     ]
    }
   ],
   "source": [
    "from gensim import models\n",
    "model = models.Doc2Vec()\n",
    "model.build_vocab(sentence)\n",
    "\n",
    "for _ in range(10):\n",
    "    model.train(sentence)\n",
    "    print(\"トレーニング\" + str(_) + \"終了\")"
   ]
  },
  {
   "cell_type": "code",
   "execution_count": 26,
   "metadata": {
    "collapsed": false
   },
   "outputs": [],
   "source": [
    "# model.vocab.keys()"
   ]
  },
  {
   "cell_type": "code",
   "execution_count": 58,
   "metadata": {
    "collapsed": false
   },
   "outputs": [
    {
     "data": {
      "text/plain": [
       "[('-｜', 0.4989011883735657),\n",
       " ('企業', 0.48957908153533936),\n",
       " ('さくら', 0.4730980396270752),\n",
       " ('開始', 0.46794670820236206),\n",
       " ('サイバーエージェント', 0.42725899815559387),\n",
       " ('初心者', 0.41618603467941284),\n",
       " ('クリエイター', 0.4149061441421509),\n",
       " ('学生', 0.41168373823165894),\n",
       " ('女子', 0.4000186026096344),\n",
       " ('2014', 0.3906862437725067)]"
      ]
     },
     "execution_count": 58,
     "metadata": {},
     "output_type": "execute_result"
    }
   ],
   "source": [
    "model.most_similar(\"リクルート\")"
   ]
  },
  {
   "cell_type": "code",
   "execution_count": 59,
   "metadata": {
    "collapsed": false
   },
   "outputs": [
    {
     "name": "stdout",
     "output_type": "stream",
     "text": [
      "無理 だ ー \n",
      "\n",
      "72% 無料 で 遊ん だ ー \n",
      "\n",
      "63% なんと ！ cRT @ yoichineji : cocos 2 d - html 5 v 2 . 0 が リリース さ れ た よう だ ー \n",
      "\n",
      "61% ちょ ー いい ランチ だっ た ！ たのし ー \n",
      "\n",
      "61% 徐々に 英語 に なっ て いく ぜ ー \n",
      "\n",
      "58% AppBank Games の 人 だ ー # idevjp \n",
      "\n",
      "58% だ ー ぱん の リバー シ だ 。 こういう キャラ 戦略 よい なぁ 。 / “ Connecting to the iTunes Store .” http :// t . co / 6 l 7 VAkr 9 Jd \n",
      "\n",
      "58% いい 質問 だ \n",
      "\n",
      "58% wercker 便利 だ 。 無料 だ 。 \n",
      "\n",
      "58% さすが です ！ RT @ oshiro _ te : @ kasajei いい よ ね ！ いたみ お ー とめる きゃー んで ー い ー ！ \n",
      "\n",
      "57% タカ ノリ w RT @ RTsokuho : 見ろ よ … こいつ 今年 で 42 だ ぜ … http :// t . co / zX 7 izCsT hideattwtr \n",
      "\n"
     ]
    }
   ],
   "source": [
    "base = \"text_1\"\n",
    "key, index = base.split(\"_\")\n",
    "print(df.ix[int(index)][key])\n",
    "for offset, similality in model.docvecs.most_similar(base):\n",
    "    doctag = model.docvecs.offset2doctag[offset]\n",
    "    key, index = doctag.split(\"_\")\n",
    "    print(\"%s%%\"%int(similality*100),df.ix[int(index)][key])"
   ]
  },
  {
   "cell_type": "code",
   "execution_count": 60,
   "metadata": {
    "collapsed": false
   },
   "outputs": [],
   "source": [
    "from scipy.cluster.vq import vq, kmeans, whiten\n",
    "centroid, destortion = kmeans(model.docvecs, 10 , iter=100, thresh=1e-05)"
   ]
  },
  {
   "cell_type": "code",
   "execution_count": 61,
   "metadata": {
    "collapsed": false
   },
   "outputs": [
    {
     "name": "stdout",
     "output_type": "stream",
     "text": [
      "[8 9 4 6 2]\n",
      "[ 0.47283798  0.48287922  0.25696802  0.48280719  0.36849758]\n"
     ]
    }
   ],
   "source": [
    "labels, dist = vq(model.docvecs, centroid)\n",
    "print(labels[:5]) # どのクラスターに入ってるか\n",
    "print(dist[:5]) # 中心からの距離"
   ]
  },
  {
   "cell_type": "code",
   "execution_count": 62,
   "metadata": {
    "collapsed": false
   },
   "outputs": [
    {
     "name": "stdout",
     "output_type": "stream",
     "text": [
      "0 スタート\n",
      "71% なにこれ\n",
      "71% R&amp;Dはマネジメントできるか https://t.co/LRbM4i7oum #スマートニュース\n",
      "72% すげー / “風邪 - Wikipedia” https://t.co/nQY4DaKsV6\n",
      "71% おはよー！ 8h 9m ねたよ！ November 7, 2015 at 01:16AM →November 7, 2015 at 09:44AM\n",
      "\n",
      "\n",
      "1 スタート\n",
      "74% すごい / “ステビア - Wikipedia” https://t.co/GAOJP72XPu\n",
      "71% 店舗で予約できるだろうか\n",
      "73% Face swapping with Python, dlib, and OpenCV  http://t.co/bJwFe7JxYU\n",
      "72% なるほど、リツイートとファボも報酬にするのか\n",
      "\n",
      "\n",
      "2 スタート\n",
      "72% 体をアルカリ性に変えてこ\n",
      "76% 出来てきた https://t.co/AmnSJCo2bm\n",
      "72% 届いたよ！ http://t.co/xBFgoTbVu5\n",
      "71% やってない！ http://t.co/1yhUvSdYSe\n",
      "\n",
      "\n",
      "3 スタート\n",
      "71% アーロンチェアいいなぁ\n",
      "75% すごい RT MACALLAN(マッカラン) の ザ・マッカラン リフレクション 700ml を Amazon でチェック！ https://t.co/u69l9wlPjk @さんから\n",
      "72% 1件のコメント https://t.co/MTaTEX7rJb “ケトン体・ケトン食とは” https://t.co/ceRUkRGcwj\n",
      "73% Haskel RT @lotz84_: Ocaml https://t.co/8s66iPbdej\n",
      "\n",
      "\n",
      "4 スタート\n",
      "74% 計算中・・・\n",
      "74% ジョコビッチ https://t.co/h3xZlL9I02\n",
      "72% ややこしい結果に  https://t.co/2ZnjCvyeaG https://t.co/gq7fSZZymj\n",
      "84% 体重推移 https://t.co/tIGtdKgzFy\n",
      "\n",
      "\n",
      "5 スタート\n",
      "72% クロックスもやすい！\n",
      "\n",
      "crocs(クロックス) の [クロックス] crocs サンダル Crocband を Amazon でチェック！ https://t.co/tNdSWiAbIT @さんから\n",
      "72% 古川のあだなが、ふるりんになったことをおしらせします\n",
      "73% pyenvにPR投げてマージされました\n",
      "71% 受注文化が、そうさせるのか。\n",
      "\n",
      "\n",
      "6 スタート\n",
      "72% えっーっと、やこです！！！\n",
      "71% Theanoで線形回帰も出来たー！\n",
      "77% 今日は、indigo la end聞くよね。\n",
      "73% 脳を動かすのは難しい\n",
      "\n",
      "\n",
      "7 スタート\n",
      "71% プロダクションでObjC→Swiftにしたところってあるのかな。\n",
      "78% 筋肉食堂やばい\n",
      "\n",
      "https://t.co/VTKCidvowu\n",
      "76% https://t.co/eK87DfzKYo\n",
      "71% なかなか難しい。冷蔵庫のデットスペース感 https://t.co/dcSqDuxAXf\n",
      "\n",
      "\n",
      "8 スタート\n",
      "71% 体力を付ける方法を熱望している\n",
      "71% どうも白馬の王子さまです\n",
      "71% AppleTVほしいけど、スタバでモテない\n",
      "73% パスが間違ってる\n",
      "\n",
      "\n",
      "9 スタート\n",
      "71% ペンローズの量子脳を実装したい\n",
      "74% 英語を高速で読めるようになりたい\n",
      "72% 2件のコメント https://t.co/XGPnQucm7V “実例で学ぶDockerハンズオン - Qiita” https://t.co/PLxuMASLGE\n",
      "74% 洗濯機はビートウォッシュ一択っぽいな https://t.co/NihxMJ6PQg\n",
      "\n",
      "\n"
     ]
    }
   ],
   "source": [
    "df = pd.read_csv(\"../data/tweets.csv\")\n",
    "for label in range(10):\n",
    "    print(label,\"スタート\")\n",
    "    print_i = 0\n",
    "    for i in range(model.docvecs.count):\n",
    "        if labels[i] == label:\n",
    "            dist_vec = vq([model.docvecs[i]], centroid)\n",
    "            doctag = model.docvecs.offset2doctag[i]\n",
    "            key, index = doctag.split(\"_\")\n",
    "            if int((1.-dist[i])*100) > 70 and not pd.isnull(df.ix[int(index)][key]):\n",
    "#                 print(dist_vec)\n",
    "                print(\"%s%%\"%int((1.-dist[i])*100),df.ix[int(index)][key].strip(\"\\t\\n\"))\n",
    "                print_i +=1\n",
    "                if print_i > 3 : \n",
    "                    print(\"\\n\");break;"
   ]
  }
 ],
 "metadata": {
  "kernelspec": {
   "display_name": "Python 3",
   "language": "python",
   "name": "python3"
  },
  "language_info": {
   "codemirror_mode": {
    "name": "ipython",
    "version": 3
   },
   "file_extension": ".py",
   "mimetype": "text/x-python",
   "name": "python",
   "nbconvert_exporter": "python",
   "pygments_lexer": "ipython3",
   "version": "3.4.3"
  }
 },
 "nbformat": 4,
 "nbformat_minor": 0
}
