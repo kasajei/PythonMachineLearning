{
 "cells": [
  {
   "cell_type": "markdown",
   "metadata": {},
   "source": [
    "# RNNでArrayの足し算を作ってみる\n",
    "RNNは時系列データを扱うのに有用なNNである。\n",
    "\n",
    "特徴としては、中間層に自己へのフィードバックループがあり、それにより前のステートからの影響を保持することが出来る。\n",
    "\n",
    "今回のタスクはそれほどRNNで解く必要はないが、線形回帰などの簡単なタスクがRNNにあまりなく、自然言語処理などをし始めるとなにをしているのかがわからなくなる。\n",
    "\n",
    "と思っていたら同じことを思っている人がおられて、参考にさせてもらった。 http://qiita.com/TomokIshii/items/01c2171f4def1a128fd3 （こちらはTheanoでの実装です）\n",
    "\n",
    "今回のタスクの詳細はURLに譲り、chainerで実装していく。"
   ]
  },
  {
   "cell_type": "code",
   "execution_count": 1,
   "metadata": {
    "collapsed": false
   },
   "outputs": [
    {
     "name": "stderr",
     "output_type": "stream",
     "text": [
      "/Users/kasajei/.virtualenvs/ml3/lib/python3.5/site-packages/sklearn/utils/fixes.py:64: DeprecationWarning: inspect.getargspec() is deprecated, use inspect.signature() instead\n",
      "  if 'order' in inspect.getargspec(np.copy)[0]:\n"
     ]
    }
   ],
   "source": [
    "import numpy as np\n",
    "import chainer\n",
    "from chainer import cuda, Function, gradient_check, Variable, optimizers, serializers, utils\n",
    "from chainer import Link, Chain, ChainList\n",
    "import chainer.functions as F\n",
    "import chainer.links as L\n",
    "from sklearn.cross_validation import train_test_split"
   ]
  },
  {
   "cell_type": "code",
   "execution_count": 2,
   "metadata": {
    "collapsed": false
   },
   "outputs": [
    {
     "name": "stdout",
     "output_type": "stream",
     "text": [
      "[[array([0, 0, 1, 0, 0, 1, 1, 0, 1, 0])], [array([0, 0, 1, 1, 1, 0, 0, 0, 0, 0])], [array([0, 1, 0, 1, 1, 1, 1, 0, 0, 0])], [array([1, 1, 0, 0, 0, 0, 1, 1, 1, 0])], [array([1, 0, 0, 0, 0, 0, 0, 0, 0, 0])]]\n",
      "[[ 4.]\n",
      " [ 3.]\n",
      " [ 5.]\n",
      " [ 5.]\n",
      " [ 1.]]\n"
     ]
    }
   ],
   "source": [
    "x = 0.1\n",
    "data = []\n",
    "for _ in range(0, 10000):\n",
    "    data.append([np.around(np.random.rand(10)).astype(int)])\n",
    "print(data[:5])\n",
    "data = np.asarray(data, dtype=np.float32)\n",
    "y = np.sum(data, axis=2)\n",
    "print(y[:5])"
   ]
  },
  {
   "cell_type": "code",
   "execution_count": 3,
   "metadata": {
    "collapsed": false
   },
   "outputs": [
    {
     "name": "stdout",
     "output_type": "stream",
     "text": [
      "1000 1000\n"
     ]
    }
   ],
   "source": [
    "X_train, X_test, Y_train, Y_test = train_test_split(data, y, test_size=0.1, random_state=0)\n",
    "print(len(X_test),len(Y_test))"
   ]
  },
  {
   "cell_type": "code",
   "execution_count": 6,
   "metadata": {
    "collapsed": false
   },
   "outputs": [],
   "source": [
    "class RNN(Chain):\n",
    "    def __init__(self):\n",
    "        super(RNN, self).__init__(\n",
    "            i = L.Linear(1,1), # 入力→隠れ\n",
    "            h = L.Linear(1,1), # 隠れ→隠れ\n",
    "            o =  L.Linear(1,1) # 隠れ→出力\n",
    "        )        \n",
    "        \n",
    "    def __call__(self, x_array, y):\n",
    "        h = Variable(np.zeros((len(x_array.data),  1), dtype=np.float32), volatile=x_array.volatile) # 隠れ層の初期値\n",
    "        o = Variable(np.zeros((len(x_array.data),  1), dtype=np.float32), volatile=x_array.volatile) # 隠れ層の初期値\n",
    "        for x in x_array.data.T:\n",
    "            i = self.i(Variable(x.T, volatile=x_array.volatile))\n",
    "            h = i + self.h(h)\n",
    "\n",
    "        o = self.o(h)\n",
    "        self.y = o\n",
    "        self.loss = F.mean_squared_error(o,y)\n",
    "        return self.loss"
   ]
  },
  {
   "cell_type": "code",
   "execution_count": 7,
   "metadata": {
    "collapsed": false
   },
   "outputs": [
    {
     "name": "stdout",
     "output_type": "stream",
     "text": [
      "0 ステップ→ 39.934722900390625\n",
      "1000 ステップ→ 4.527037143707275\n",
      "2000 ステップ→ 2.7627742290496826\n",
      "3000 ステップ→ 2.3172922134399414\n",
      "4000 ステップ→ 2.0130116939544678\n",
      "5000 ステップ→ 1.7121180295944214\n",
      "6000 ステップ→ 9.771873010322452e-06\n",
      "7000 ステップ→ 5.189105048430953e-11\n",
      "8000 ステップ→ 1.2565976037492987e-11\n",
      "9000 ステップ→ 5.394258824342746e-12\n",
      "10000 ステップ→ 9.641393586279356e-13\n"
     ]
    }
   ],
   "source": [
    "model = RNN()\n",
    "optimizer = optimizers.Adam()\n",
    "optimizer.setup(model)\n",
    "\n",
    "batch_size = int(len(X_train) * 0.1)\n",
    "epoch = 10001\n",
    "model.zerograds()\n",
    "for step in range(epoch):\n",
    "    batch_index = np.random.randint(len(X_train)-batch_size)\n",
    "    batch_x =Variable(X_train[batch_index:batch_index+batch_size])\n",
    "    batch_y = Variable(Y_train[batch_index:batch_index+batch_size])\n",
    "    optimizer.update(model, batch_x, batch_y)\n",
    "    if step % ((epoch-1)/10) == 0:\n",
    "        print(step,\"ステップ→\",model.loss.data) "
   ]
  },
  {
   "cell_type": "code",
   "execution_count": 8,
   "metadata": {
    "collapsed": false
   },
   "outputs": [
    {
     "name": "stdout",
     "output_type": "stream",
     "text": [
      "1.9205401158295388e-12\n",
      "[[ 4.]\n",
      " [ 8.]\n",
      " [ 6.]\n",
      " [ 7.]\n",
      " [ 4.]]\n",
      "[[ 3.99999714]\n",
      " [ 7.99999905]\n",
      " [ 5.99999857]\n",
      " [ 6.99999857]\n",
      " [ 3.99999833]]\n"
     ]
    }
   ],
   "source": [
    "x_variable = Variable(X_test, volatile=True)\n",
    "y_variable = Variable(Y_test, volatile=True)\n",
    "# model.reset_state()\n",
    "model(x_variable,y_variable)\n",
    "print(model.loss.data)\n",
    "print(Y_test[:5])\n",
    "print(model.y.data[:5])"
   ]
  },
  {
   "cell_type": "markdown",
   "metadata": {},
   "source": [
    "# LSTM\n",
    "中間層をchainerが用意してくれているLSTMにしてみる"
   ]
  },
  {
   "cell_type": "code",
   "execution_count": 9,
   "metadata": {
    "collapsed": true
   },
   "outputs": [],
   "source": [
    "class LSTM(Chain):\n",
    "    def __init__(self):\n",
    "        super(LSTM, self).__init__(\n",
    "            i = L.Linear(1,1), # 入力→隠れ\n",
    "            h = L.LSTM(1,1), # 隠れ→隠れ\n",
    "            o =  L.Linear(1,1) # 隠れ→出力\n",
    "        )        \n",
    "            \n",
    "    def __call__(self, x_array, y):\n",
    "        o = Variable(np.zeros((len(x_array.data),  1), dtype=np.float32), volatile=x_array.volatile) # 隠れ層の初期値\n",
    "        for x in x_array.data.T:\n",
    "            i = self.i(Variable(x.T, volatile=x_array.volatile))\n",
    "            h = self.h(i)\n",
    "            \n",
    "        o = self.o(h)\n",
    "        self.h.reset_state()\n",
    "        self.y = o\n",
    "        self.loss = F.mean_squared_error(o,y)\n",
    "        return self.loss"
   ]
  },
  {
   "cell_type": "code",
   "execution_count": 10,
   "metadata": {
    "collapsed": false
   },
   "outputs": [
    {
     "name": "stdout",
     "output_type": "stream",
     "text": [
      "0 ステップ→ 27.03696632385254\n",
      "1000 ステップ→ 9.822260856628418\n",
      "2000 ステップ→ 4.30447244644165\n",
      "3000 ステップ→ 2.6470730304718018\n",
      "4000 ステップ→ 2.448301076889038\n",
      "5000 ステップ→ 1.2512857913970947\n",
      "6000 ステップ→ 0.18731147050857544\n",
      "7000 ステップ→ 0.12418320029973984\n",
      "8000 ステップ→ 0.07552158832550049\n",
      "9000 ステップ→ 0.04857984930276871\n",
      "10000 ステップ→ 0.026926083490252495\n"
     ]
    }
   ],
   "source": [
    "model = LSTM()\n",
    "optimizer = optimizers.Adam()\n",
    "optimizer.setup(model)\n",
    "\n",
    "batch_size = int(len(X_train) * 0.1)\n",
    "epoch = 10001\n",
    "model.zerograds()\n",
    "for step in range(epoch):\n",
    "    batch_index = np.random.randint(len(X_train)-batch_size)\n",
    "    batch_x =Variable(X_train[batch_index:batch_index+batch_size])\n",
    "    batch_y = Variable(Y_train[batch_index:batch_index+batch_size])\n",
    "    optimizer.update(model, batch_x, batch_y)\n",
    "    if step % ((epoch-1)/10) == 0:\n",
    "        print(step,\"ステップ→\",model.loss.data) "
   ]
  },
  {
   "cell_type": "code",
   "execution_count": 11,
   "metadata": {
    "collapsed": false
   },
   "outputs": [
    {
     "name": "stdout",
     "output_type": "stream",
     "text": [
      "0.02813943289220333\n",
      "[[ 4.]\n",
      " [ 8.]\n",
      " [ 6.]\n",
      " [ 7.]\n",
      " [ 4.]]\n",
      "[[ 3.93993902]\n",
      " [ 7.64936924]\n",
      " [ 6.14246273]\n",
      " [ 6.91297626]\n",
      " [ 3.92608857]]\n"
     ]
    }
   ],
   "source": [
    "x_variable = Variable(X_test, volatile=True)\n",
    "y_variable = Variable(Y_test, volatile=True)\n",
    "# model.reset_state()\n",
    "model(x_variable,y_variable)\n",
    "print(model.loss.data)\n",
    "print(Y_test[:5])\n",
    "print(model.y.data[:5])"
   ]
  },
  {
   "cell_type": "code",
   "execution_count": null,
   "metadata": {
    "collapsed": true
   },
   "outputs": [],
   "source": []
  }
 ],
 "metadata": {
  "kernelspec": {
   "display_name": "Python 3",
   "language": "python",
   "name": "python3"
  },
  "language_info": {
   "codemirror_mode": {
    "name": "ipython",
    "version": 3
   },
   "file_extension": ".py",
   "mimetype": "text/x-python",
   "name": "python",
   "nbconvert_exporter": "python",
   "pygments_lexer": "ipython3",
   "version": "3.5.1"
  }
 },
 "nbformat": 4,
 "nbformat_minor": 0
}
