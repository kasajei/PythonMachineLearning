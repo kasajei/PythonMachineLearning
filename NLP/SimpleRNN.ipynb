{
 "cells": [
  {
   "cell_type": "code",
   "execution_count": 1,
   "metadata": {
    "collapsed": true
   },
   "outputs": [],
   "source": [
    "import numpy as np\n",
    "import chainer\n",
    "from chainer import cuda, Function, gradient_check, Variable, optimizers, serializers, utils\n",
    "from chainer import Link, Chain, ChainList\n",
    "import chainer.functions as F\n",
    "import chainer.links as L"
   ]
  },
  {
   "cell_type": "code",
   "execution_count": 64,
   "metadata": {
    "collapsed": false
   },
   "outputs": [
    {
     "name": "stdout",
     "output_type": "stream",
     "text": [
      "[[0.1], [0.10010000000000001], [0.10020000000000001], [0.10030000000000001], [0.10040000000000002]]\n"
     ]
    }
   ],
   "source": [
    "x = 0.1\n",
    "data = [[x]]\n",
    "for _ in range(0, 10000):\n",
    "    x = x + 1/10000\n",
    "    data.append([x])\n",
    "print(data[:5])"
   ]
  },
  {
   "cell_type": "code",
   "execution_count": 65,
   "metadata": {
    "collapsed": false
   },
   "outputs": [
    {
     "name": "stdout",
     "output_type": "stream",
     "text": [
      "1999 1999\n"
     ]
    }
   ],
   "source": [
    "x_train = np.array(data[:int(len(data)*0.8)], dtype=np.float32)\n",
    "y_train = np.array(data[1:int(len(data)*0.8)+1], dtype=np.float32)\n",
    "x_test = np.array(data[int(len(data)*0.8)+1:len(data)-1], dtype=np.float32)\n",
    "y_test = np.array(data[int(len(data)*0.8)+2:len(data)], dtype=np.float32)\n",
    "print(len(x_test),len(y_test))"
   ]
  },
  {
   "cell_type": "code",
   "execution_count": 71,
   "metadata": {
    "collapsed": true
   },
   "outputs": [],
   "source": [
    "class RNN(Chain):\n",
    "    def __init__(self):\n",
    "        super(RNN, self).__init__(\n",
    "            i = L.Linear(1,1),\n",
    "            h = L.Linear(1,1),\n",
    "            o =  L.Linear(1,1)\n",
    "        )\n",
    "        \n",
    "    def reset_state(self):\n",
    "        self.h.reset_state()\n",
    "\n",
    "    def __call__(self, x, y):\n",
    "        i = self.i(x)\n",
    "        h = self.h(i)\n",
    "        o = self.o(h)\n",
    "        self.loss = F.mean_squared_error(o,y)\n",
    "        return self.loss"
   ]
  },
  {
   "cell_type": "code",
   "execution_count": 72,
   "metadata": {
    "collapsed": false
   },
   "outputs": [
    {
     "name": "stdout",
     "output_type": "stream",
     "text": [
      "0.16788852214813232\n",
      "0.15109753608703613\n",
      "0.14332501590251923\n",
      "0.13749417662620544\n",
      "0.13267797231674194\n",
      "0.12851352989673615\n",
      "0.12481343001127243\n",
      "0.12146631628274918\n",
      "0.11839918792247772\n",
      "0.11556137353181839\n",
      "0.11291591078042984\n"
     ]
    }
   ],
   "source": [
    "model = RNN()\n",
    "optimizer = optimizers.AdaGrad()\n",
    "optimizer.setup(model)\n",
    "\n",
    "for step in range(201):\n",
    "    x_variable = Variable(x_train)\n",
    "    y_variable = Variable(y_train)\n",
    "    optimizer.update(model, x_variable, y_variable)\n",
    "    if step % 20 == 0:\n",
    "        print(model.loss.data) "
   ]
  },
  {
   "cell_type": "code",
   "execution_count": 74,
   "metadata": {
    "collapsed": false
   },
   "outputs": [
    {
     "name": "stdout",
     "output_type": "stream",
     "text": [
      "0.41856813430786133\n"
     ]
    }
   ],
   "source": [
    "x_variable = Variable(x_test)\n",
    "y_variable = Variable(y_test)\n",
    "   \n",
    "# model.reset_state()\n",
    "model(x_variable,y_variable)\n",
    "print(model.loss.data)"
   ]
  },
  {
   "cell_type": "code",
   "execution_count": null,
   "metadata": {
    "collapsed": true
   },
   "outputs": [],
   "source": []
  }
 ],
 "metadata": {
  "kernelspec": {
   "display_name": "Python 3",
   "language": "python",
   "name": "python3"
  },
  "language_info": {
   "codemirror_mode": {
    "name": "ipython",
    "version": 3
   },
   "file_extension": ".py",
   "mimetype": "text/x-python",
   "name": "python",
   "nbconvert_exporter": "python",
   "pygments_lexer": "ipython3",
   "version": "3.4.3"
  }
 },
 "nbformat": 4,
 "nbformat_minor": 0
}
