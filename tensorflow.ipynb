{
 "cells": [
  {
   "cell_type": "markdown",
   "metadata": {},
   "source": [
    "# Tensorflowを使ってみる\n",
    "\n",
    "まずは線形回帰で\n",
    "\n",
    "$$y = 0.1 * x  + 0.3$$ \n",
    "\n",
    "を学習することをやってみる。\n",
    "\n",
    "まずは、ランダムに`x_data`を生成して、そこから上記の数式に値をいれた`y_data`を取得する"
   ]
  },
  {
   "cell_type": "code",
   "execution_count": 1,
   "metadata": {},
   "outputs": [
    {
     "name": "stdout",
     "output_type": "stream",
     "text": [
      "x_data ->  [ 0.87822241  0.03435802  0.61389858  0.72873425  0.11537459  0.60941231\n  0.20453164  0.25644848  0.52539408  0.51763147  0.02325199  0.20357937\n  0.68771172  0.26826584  0.80503482  0.71996832  0.18834728  0.19419245\n  0.61154366  0.50840551  0.27119976  0.16651374  0.12257904  0.51482487\n  0.99325681  0.24660948  0.16741131  0.39474511  0.22038484  0.52723044\n  0.82761902  0.07838525  0.17879717  0.73014289  0.08789682  0.25970617\n  0.18870877  0.35354593  0.5095849   0.71133196  0.52399832  0.21330319\n  0.07023059  0.61943442  0.68295532  0.92720121  0.61127126  0.20195648\n  0.40215907  0.06200561  0.74029875  0.51204956  0.21873741  0.33181921\n  0.44420293  0.809461    0.0322804   0.65216804  0.16343296  0.58795637\n  0.31044978  0.26988786  0.993164    0.25087088  0.29007167  0.12441614\n  0.00408988  0.43185651  0.77115953  0.48946148  0.64036083  0.46374351\n  0.41974771  0.43258893  0.09363202  0.98393965  0.73826015  0.29927459\n  0.98338354  0.47268099  0.7875219   0.84464836  0.84506536  0.63698459\n  0.32212627  0.87643737  0.84091377  0.69605839  0.29163831  0.70865273\n  0.96768343  0.14909437  0.1133467   0.46697181  0.45292985  0.10986247\n  0.242809    0.289565    0.19762282  0.18955292]\ny_data ->  [ 0.38782227  0.3034358   0.36138988  0.37287343  0.31153747  0.36094123\n  0.32045317  0.32564485  0.35253942  0.35176316  0.30232522  0.32035795\n  0.3687712   0.3268266   0.38050351  0.37199685  0.31883475  0.31941926\n  0.36115438  0.35084057  0.32711998  0.31665137  0.31225792  0.35148251\n  0.3993257   0.32466096  0.31674114  0.33947453  0.3220385   0.35272306\n  0.38276193  0.30783853  0.31787974  0.3730143   0.3087897   0.32597062\n  0.3188709   0.3353546   0.3509585   0.37113321  0.35239986  0.32133034\n  0.30702308  0.36194345  0.36829555  0.39272013  0.36112714  0.32019567\n  0.34021592  0.30620056  0.37402987  0.35120496  0.32187375  0.33318192\n  0.34442031  0.3809461   0.30322805  0.36521682  0.31634331  0.35879564\n  0.331045    0.32698879  0.39931643  0.3250871   0.32900718  0.31244162\n  0.30040899  0.34318566  0.37711596  0.34894615  0.36403608  0.34637436\n  0.34197479  0.34325892  0.30936322  0.39839399  0.37382603  0.32992747\n  0.39833838  0.3472681   0.3787522   0.38446486  0.38450655  0.36369848\n  0.33221263  0.38764375  0.38409138  0.36960584  0.32916385  0.37086529\n  0.39676836  0.31490946  0.31133467  0.34669718  0.34529299  0.31098625\n  0.32428092  0.32895651  0.31976229  0.3189553 ]\n"
     ]
    }
   ],
   "source": [
    "import tensorflow as tf\n",
    "import numpy as np\n",
    "\n",
    "x_data = np.random.rand(100).astype(\"float32\")\n",
    "y_data = x_data * 0.1 + 0.3\n",
    "print(\"x_data -> \", x_data)\n",
    "print(\"y_data -> \", y_data)"
   ]
  },
  {
   "cell_type": "markdown",
   "metadata": {},
   "source": [
    "次に、学習するモデルを\n",
    "\n",
    "$$ y = W * x  + b $$\n",
    "\n",
    "とおいて、`W`と`b`を変数とする。そのため、tensorflowのVariableとして定義する。"
   ]
  },
  {
   "cell_type": "code",
   "execution_count": 2,
   "metadata": {},
   "outputs": [
    {
     "name": "stdout",
     "output_type": "stream",
     "text": [
      "<tensorflow.python.ops.variables.Variable object at 0x10d822940> <tensorflow.python.ops.variables.Variable object at 0x10d41c2b0>\nTensor(\"add:0\", shape=TensorShape([Dimension(100)]), dtype=float32)\n"
     ]
    }
   ],
   "source": [
    "W = tf.Variable(tf.random_uniform([1], -1, 1))\n",
    "b = tf.Variable(tf.zeros([1]))\n",
    "print(W,b)\n",
    "y = W * x_data + b\n",
    "print(y)"
   ]
  },
  {
   "cell_type": "markdown",
   "metadata": {},
   "source": [
    "`print`するとtensoflowのVariableとして定義されていることがわかる。また、`y`はTenorのインスタンスで、`\"add:0\"`という表現を持っていることがわかる。\n",
    "\n",
    "さて、学習するために、コスト関数を定義する。またその後、コスト関数を最小化するための手法として最急降下法のインスタンスを、学習率0.5で生成し、コスト関数を最小化する。"
   ]
  },
  {
   "cell_type": "code",
   "execution_count": 3,
   "metadata": {},
   "outputs": [
    {
     "name": "stdout",
     "output_type": "stream",
     "text": [
      "loss-> Tensor(\"Mean:0\", shape=TensorShape([]), dtype=float32)\noptimizer-> <tensorflow.python.training.gradient_descent.GradientDescentOptimizer object at 0x10e10f128>\ntrain-> name: \"GradientDescent\"\nop: \"NoOp\"\ninput: \"^GradientDescent/update_Variable/ApplyGradientDescent\"\ninput: \"^GradientDescent/update_Variable_1/ApplyGradientDescent\"\n\n"
     ]
    }
   ],
   "source": [
    "loss = tf.reduce_mean(tf.square(y - y_data))\n",
    "print(\"loss->\", loss)\n",
    "optimizer = tf.train.GradientDescentOptimizer(0.5)\n",
    "print(\"optimizer->\", optimizer)\n",
    "train = optimizer.minimize(loss)\n",
    "print(\"train->\", train)"
   ]
  },
  {
   "cell_type": "markdown",
   "metadata": {},
   "source": [
    "すべての値を初期化する。この場合、初期化されるのは、`W`と`b`。"
   ]
  },
  {
   "cell_type": "code",
   "execution_count": 4,
   "metadata": {},
   "outputs": [],
   "source": [
    "init = tf.initialize_all_variables()"
   ]
  },
  {
   "cell_type": "markdown",
   "metadata": {},
   "source": [
    "tensorflowを実行するときには、Sessionを生成する"
   ]
  },
  {
   "cell_type": "code",
   "execution_count": 5,
   "metadata": {},
   "outputs": [],
   "source": [
    "sess = tf.Session()\n",
    "sess.run(init)"
   ]
  },
  {
   "cell_type": "markdown",
   "metadata": {},
   "source": [
    "sessionはrunすることにより、Tensorのインスタンスを実行したり、Variableを表示したりすることができる。"
   ]
  },
  {
   "cell_type": "code",
   "execution_count": 6,
   "metadata": {},
   "outputs": [
    {
     "name": "stdout",
     "output_type": "stream",
     "text": [
      "0 [ 0.74136662] [-0.01180235]\n20 [ 0.27561066] [ 0.21652415]\n40 [ 0.1478828] [ 0.27723911]\n60 [ 0.11305594] [ 0.29379392]\n80 [ 0.1035599] [ 0.29830784]\n100 [ 0.10097065] [ 0.29953861]\n120 [ 0.10026467] [ 0.29987422]\n140"
     ]
    },
    {
     "name": "stdout",
     "output_type": "stream",
     "text": [
      " [ 0.10007217] [ 0.29996571]\n160 [ 0.1000197] [ 0.29999065]\n180 [ 0.10000539] [ 0.29999745]\n200 [ 0.10000148] [ 0.2999993]\n"
     ]
    }
   ],
   "source": [
    "for step in range(201):\n",
    "    sess.run(train)\n",
    "    if step % 20 == 0:\n",
    "        print(step, sess.run(W), sess.run(b))"
   ]
  }
 ],
 "metadata": {
  "kernelspec": {
   "display_name": "Python 3",
   "language": "python",
   "name": "python3"
  },
  "language_info": {
   "codemirror_mode": {
    "name": "ipython",
    "version": 3.0
   },
   "file_extension": ".py",
   "mimetype": "text/x-python",
   "name": "python",
   "nbconvert_exporter": "python",
   "pygments_lexer": "ipython3",
   "version": "3.4.3"
  }
 },
 "nbformat": 4,
 "nbformat_minor": 0
}