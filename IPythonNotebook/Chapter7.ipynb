{
 "cells": [
  {
   "cell_type": "markdown",
   "metadata": {},
   "source": [
    "# 7.1 pandas"
   ]
  },
  {
   "cell_type": "code",
   "execution_count": null,
   "metadata": {
    "collapsed": true
   },
   "outputs": [],
   "source": []
  },
  {
   "cell_type": "code",
   "execution_count": 1,
   "metadata": {
    "collapsed": true
   },
   "outputs": [],
   "source": [
    "import numpy as np\n",
    "import pandas as pd\n",
    "%matplotlib inline\n",
    "import matplotlib.pyplot as plt"
   ]
  },
  {
   "cell_type": "code",
   "execution_count": 2,
   "metadata": {
    "collapsed": false
   },
   "outputs": [
    {
     "data": {
      "text/html": [
       "<div>\n",
       "<table border=\"1\" class=\"dataframe\">\n",
       "  <thead>\n",
       "    <tr style=\"text-align: right;\">\n",
       "      <th></th>\n",
       "      <th>year</th>\n",
       "      <th>tournament</th>\n",
       "      <th>start date</th>\n",
       "      <th>type</th>\n",
       "      <th>surface</th>\n",
       "      <th>draw</th>\n",
       "      <th>atp points</th>\n",
       "      <th>atp ranking</th>\n",
       "      <th>tournament prize money</th>\n",
       "      <th>round</th>\n",
       "      <th>...</th>\n",
       "      <th>player2 2nd serve return points total</th>\n",
       "      <th>player2 break points converted won</th>\n",
       "      <th>player2 break points converted total</th>\n",
       "      <th>player2 return games played</th>\n",
       "      <th>player2 total service points won</th>\n",
       "      <th>player2 total service points total</th>\n",
       "      <th>player2 total return points won</th>\n",
       "      <th>player2 total return points total</th>\n",
       "      <th>player2 total points won</th>\n",
       "      <th>player2 total points total</th>\n",
       "    </tr>\n",
       "  </thead>\n",
       "  <tbody>\n",
       "    <tr>\n",
       "      <th>1174</th>\n",
       "      <td>2012</td>\n",
       "      <td>Australian Open, Australia</td>\n",
       "      <td>16.01.2012</td>\n",
       "      <td>GS</td>\n",
       "      <td>Outdoor: Hard</td>\n",
       "      <td>Draw: 128</td>\n",
       "      <td>720</td>\n",
       "      <td>3</td>\n",
       "      <td>A$437,000</td>\n",
       "      <td>S</td>\n",
       "      <td>...</td>\n",
       "      <td>49</td>\n",
       "      <td>6</td>\n",
       "      <td>16</td>\n",
       "      <td>21</td>\n",
       "      <td>95</td>\n",
       "      <td>141</td>\n",
       "      <td>51</td>\n",
       "      <td>135</td>\n",
       "      <td>146</td>\n",
       "      <td>276</td>\n",
       "    </tr>\n",
       "    <tr>\n",
       "      <th>1175</th>\n",
       "      <td>2012</td>\n",
       "      <td>Doha, Qatar</td>\n",
       "      <td>02.01.2012</td>\n",
       "      <td>250</td>\n",
       "      <td>Outdoor: Hard</td>\n",
       "      <td>Draw: 32</td>\n",
       "      <td>90</td>\n",
       "      <td>3</td>\n",
       "      <td>$50,030</td>\n",
       "      <td>R32</td>\n",
       "      <td>...</td>\n",
       "      <td>6</td>\n",
       "      <td>0</td>\n",
       "      <td>0</td>\n",
       "      <td>8</td>\n",
       "      <td>22</td>\n",
       "      <td>45</td>\n",
       "      <td>9</td>\n",
       "      <td>41</td>\n",
       "      <td>31</td>\n",
       "      <td>86</td>\n",
       "    </tr>\n",
       "    <tr>\n",
       "      <th>1176</th>\n",
       "      <td>2012</td>\n",
       "      <td>Doha, Qatar</td>\n",
       "      <td>02.01.2012</td>\n",
       "      <td>250</td>\n",
       "      <td>Outdoor: Hard</td>\n",
       "      <td>Draw: 32</td>\n",
       "      <td>90</td>\n",
       "      <td>3</td>\n",
       "      <td>$50,030</td>\n",
       "      <td>R16</td>\n",
       "      <td>...</td>\n",
       "      <td>17</td>\n",
       "      <td>0</td>\n",
       "      <td>2</td>\n",
       "      <td>9</td>\n",
       "      <td>28</td>\n",
       "      <td>50</td>\n",
       "      <td>11</td>\n",
       "      <td>49</td>\n",
       "      <td>39</td>\n",
       "      <td>99</td>\n",
       "    </tr>\n",
       "    <tr>\n",
       "      <th>1177</th>\n",
       "      <td>2012</td>\n",
       "      <td>Doha, Qatar</td>\n",
       "      <td>02.01.2012</td>\n",
       "      <td>250</td>\n",
       "      <td>Outdoor: Hard</td>\n",
       "      <td>Draw: 32</td>\n",
       "      <td>90</td>\n",
       "      <td>3</td>\n",
       "      <td>$50,030</td>\n",
       "      <td>Q</td>\n",
       "      <td>...</td>\n",
       "      <td>29</td>\n",
       "      <td>4</td>\n",
       "      <td>9</td>\n",
       "      <td>16</td>\n",
       "      <td>47</td>\n",
       "      <td>78</td>\n",
       "      <td>34</td>\n",
       "      <td>95</td>\n",
       "      <td>81</td>\n",
       "      <td>173</td>\n",
       "    </tr>\n",
       "    <tr>\n",
       "      <th>1178</th>\n",
       "      <td>2012</td>\n",
       "      <td>Doha, Qatar</td>\n",
       "      <td>02.01.2012</td>\n",
       "      <td>250</td>\n",
       "      <td>Outdoor: Hard</td>\n",
       "      <td>Draw: 32</td>\n",
       "      <td>90</td>\n",
       "      <td>3</td>\n",
       "      <td>$50,030</td>\n",
       "      <td>S</td>\n",
       "      <td>...</td>\n",
       "      <td>NaN</td>\n",
       "      <td>NaN</td>\n",
       "      <td>NaN</td>\n",
       "      <td>NaN</td>\n",
       "      <td>NaN</td>\n",
       "      <td>NaN</td>\n",
       "      <td>NaN</td>\n",
       "      <td>NaN</td>\n",
       "      <td>NaN</td>\n",
       "      <td>NaN</td>\n",
       "    </tr>\n",
       "  </tbody>\n",
       "</table>\n",
       "<p>5 rows × 70 columns</p>\n",
       "</div>"
      ],
      "text/plain": [
       "      year                  tournament  start date type        surface  \\\n",
       "1174  2012  Australian Open, Australia  16.01.2012   GS  Outdoor: Hard   \n",
       "1175  2012                 Doha, Qatar  02.01.2012  250  Outdoor: Hard   \n",
       "1176  2012                 Doha, Qatar  02.01.2012  250  Outdoor: Hard   \n",
       "1177  2012                 Doha, Qatar  02.01.2012  250  Outdoor: Hard   \n",
       "1178  2012                 Doha, Qatar  02.01.2012  250  Outdoor: Hard   \n",
       "\n",
       "           draw atp points  atp ranking tournament prize money round  \\\n",
       "1174  Draw: 128        720            3              A$437,000     S   \n",
       "1175   Draw: 32         90            3                $50,030   R32   \n",
       "1176   Draw: 32         90            3                $50,030   R16   \n",
       "1177   Draw: 32         90            3                $50,030     Q   \n",
       "1178   Draw: 32         90            3                $50,030     S   \n",
       "\n",
       "                ...             player2 2nd serve return points total  \\\n",
       "1174            ...                                                49   \n",
       "1175            ...                                                 6   \n",
       "1176            ...                                                17   \n",
       "1177            ...                                                29   \n",
       "1178            ...                                               NaN   \n",
       "\n",
       "     player2 break points converted won player2 break points converted total  \\\n",
       "1174                                  6                                   16   \n",
       "1175                                  0                                    0   \n",
       "1176                                  0                                    2   \n",
       "1177                                  4                                    9   \n",
       "1178                                NaN                                  NaN   \n",
       "\n",
       "     player2 return games played player2 total service points won  \\\n",
       "1174                          21                               95   \n",
       "1175                           8                               22   \n",
       "1176                           9                               28   \n",
       "1177                          16                               47   \n",
       "1178                         NaN                              NaN   \n",
       "\n",
       "     player2 total service points total  player2 total return points won  \\\n",
       "1174                                141                               51   \n",
       "1175                                 45                                9   \n",
       "1176                                 50                               11   \n",
       "1177                                 78                               34   \n",
       "1178                                NaN                              NaN   \n",
       "\n",
       "     player2 total return points total player2 total points won  \\\n",
       "1174                               135                      146   \n",
       "1175                                41                       31   \n",
       "1176                                49                       39   \n",
       "1177                                95                       81   \n",
       "1178                               NaN                      NaN   \n",
       "\n",
       "     player2 total points total  \n",
       "1174                        276  \n",
       "1175                         86  \n",
       "1176                         99  \n",
       "1177                        173  \n",
       "1178                        NaN  \n",
       "\n",
       "[5 rows x 70 columns]"
      ]
     },
     "execution_count": 2,
     "metadata": {},
     "output_type": "execute_result"
    }
   ],
   "source": [
    "player = \"Roger Federer\"\n",
    "file_name = \"data/tennis/{name}.csv\".format(name=player.replace(\" \", \"-\"))\n",
    "df = pd.read_csv(file_name)\n",
    "df.tail()"
   ]
  },
  {
   "cell_type": "code",
   "execution_count": 3,
   "metadata": {
    "collapsed": false
   },
   "outputs": [
    {
     "data": {
      "text/plain": [
       "1174          Rafael Nadal\n",
       "1175         Roger Federer\n",
       "1176         Roger Federer\n",
       "1177         Roger Federer\n",
       "1178    Jo-Wilfried Tsonga\n",
       "Name: winner, dtype: object"
      ]
     },
     "execution_count": 3,
     "metadata": {},
     "output_type": "execute_result"
    }
   ],
   "source": [
    "df[\"winner\"].tail()"
   ]
  },
  {
   "cell_type": "code",
   "execution_count": 4,
   "metadata": {
    "collapsed": false
   },
   "outputs": [
    {
     "data": {
      "text/plain": [
       "1174    False\n",
       "1175     True\n",
       "1176     True\n",
       "1177     True\n",
       "1178    False\n",
       "Name: win, dtype: bool"
      ]
     },
     "execution_count": 4,
     "metadata": {},
     "output_type": "execute_result"
    }
   ],
   "source": [
    "df[\"win\"] = df[\"winner\"] == player\n",
    "df[\"win\"].tail()"
   ]
  },
  {
   "cell_type": "code",
   "execution_count": 5,
   "metadata": {
    "collapsed": false
   },
   "outputs": [
    {
     "data": {
      "text/plain": [
       "'Roger Federer has won 82% of his ATP matches'"
      ]
     },
     "execution_count": 5,
     "metadata": {},
     "output_type": "execute_result"
    }
   ],
   "source": [
    "player + \" has won \" + str(int(100*df[\"win\"].mean())) + \"% of his ATP matches\""
   ]
  },
  {
   "cell_type": "code",
   "execution_count": 6,
   "metadata": {
    "collapsed": true
   },
   "outputs": [],
   "source": [
    "date = pd.to_datetime(df[\"start date\"])"
   ]
  },
  {
   "cell_type": "code",
   "execution_count": 7,
   "metadata": {
    "collapsed": true
   },
   "outputs": [],
   "source": [
    "df[\"dblfaults\"] = df[\"player1 double faults\"] / df[\"player1 total points total\"]"
   ]
  },
  {
   "cell_type": "code",
   "execution_count": 8,
   "metadata": {
    "collapsed": false
   },
   "outputs": [
    {
     "data": {
      "text/plain": [
       "1174    0.018116\n",
       "1175    0.000000\n",
       "1176    0.000000\n",
       "1177    0.011561\n",
       "1178         NaN\n",
       "Name: dblfaults, dtype: float64"
      ]
     },
     "execution_count": 8,
     "metadata": {},
     "output_type": "execute_result"
    }
   ],
   "source": [
    "df[\"dblfaults\"].tail()"
   ]
  },
  {
   "cell_type": "code",
   "execution_count": 9,
   "metadata": {
    "collapsed": false
   },
   "outputs": [
    {
     "data": {
      "text/plain": [
       "count    1027.000000\n",
       "mean        0.012129\n",
       "std         0.010797\n",
       "min         0.000000\n",
       "25%         0.004444\n",
       "50%         0.010000\n",
       "75%         0.018108\n",
       "max         0.060606\n",
       "Name: dblfaults, dtype: float64"
      ]
     },
     "execution_count": 9,
     "metadata": {},
     "output_type": "execute_result"
    }
   ],
   "source": [
    "df[\"dblfaults\"].describe()"
   ]
  },
  {
   "cell_type": "code",
   "execution_count": 10,
   "metadata": {
    "collapsed": false
   },
   "outputs": [
    {
     "data": {
      "text/plain": [
       "surface\n",
       "Indoor: Carpet    0.736842\n",
       "Indoor: Clay      0.833333\n",
       "Indoor: Hard      0.836283\n",
       "Outdoor: Clay     0.779116\n",
       "Outdoor: Grass    0.871429\n",
       "Outdoor: Hard     0.842324\n",
       "Name: win, dtype: float64"
      ]
     },
     "execution_count": 10,
     "metadata": {},
     "output_type": "execute_result"
    }
   ],
   "source": [
    "df.groupby(\"surface\")[\"win\"].mean()"
   ]
  },
  {
   "cell_type": "code",
   "execution_count": 11,
   "metadata": {
    "collapsed": true
   },
   "outputs": [],
   "source": [
    "gb = df.groupby(\"year\")"
   ]
  },
  {
   "cell_type": "code",
   "execution_count": 12,
   "metadata": {
    "collapsed": false,
    "scrolled": true
   },
   "outputs": [
    {
     "data": {
      "text/plain": [
       "<matplotlib.text.Text at 0x10a51d978>"
      ]
     },
     "execution_count": 12,
     "metadata": {},
     "output_type": "execute_result"
    },
    {
     "data": {
      "image/png": "[encoded data removed]",
      "text/plain": [
       "<matplotlib.figure.Figure at 0x10ae9f668>"
      ]
     },
     "metadata": {},
     "output_type": "display_data"
    }
   ],
   "source": [
    "plt.plot_date(date, df[\"dblfaults\"], alpha=.25, lw=0)\n",
    "plt.plot_date(gb[\"start date\"].max(), gb[\"dblfaults\"].mean(), \"-\", lw=3)\n",
    "plt.xlabel(\"Year\")\n",
    "plt.ylabel(\"Proportion of duble faults per match\")"
   ]
  },
  {
   "cell_type": "markdown",
   "metadata": {},
   "source": [
    "# 7.2 Z検定\n",
    "コインの例"
   ]
  },
  {
   "cell_type": "code",
   "execution_count": 13,
   "metadata": {
    "collapsed": true
   },
   "outputs": [],
   "source": [
    "import scipy.stats as st\n",
    "import scipy.special as sp"
   ]
  },
  {
   "cell_type": "code",
   "execution_count": 14,
   "metadata": {
    "collapsed": true
   },
   "outputs": [],
   "source": [
    "n = 100 # 試行回数\n",
    "h = 61  # 表が出た回数\n",
    "q = .5 # 帰無仮説（コインに歪みながない）"
   ]
  },
  {
   "cell_type": "code",
   "execution_count": 15,
   "metadata": {
    "collapsed": false
   },
   "outputs": [
    {
     "data": {
      "text/plain": [
       "2.1999999999999997"
      ]
     },
     "execution_count": 15,
     "metadata": {},
     "output_type": "execute_result"
    }
   ],
   "source": [
    "xbar = float(h)/n \n",
    "z = (xbar - q ) * np.sqrt(n/(q*(1-q))) # 中心0の標準偏差1になるようにマッピング\n",
    "z"
   ]
  },
  {
   "cell_type": "code",
   "execution_count": 16,
   "metadata": {
    "collapsed": false
   },
   "outputs": [
    {
     "data": {
      "text/plain": [
       "0.02780689502699718"
      ]
     },
     "execution_count": 16,
     "metadata": {},
     "output_type": "execute_result"
    }
   ],
   "source": [
    "pval = 2 * ( 1- st.norm.cdf(z))\n",
    "pval"
   ]
  },
  {
   "cell_type": "markdown",
   "metadata": {},
   "source": [
    "# 7.3 初めてのベイズ法"
   ]
  },
  {
   "cell_type": "code",
   "execution_count": 17,
   "metadata": {
    "collapsed": true
   },
   "outputs": [],
   "source": [
    "posterior = lambda n, h, q: ((n+1) * st.binom(n, q).pmf(h))"
   ]
  },
  {
   "cell_type": "code",
   "execution_count": 18,
   "metadata": {
    "collapsed": false
   },
   "outputs": [
    {
     "data": {
      "text/plain": [
       "(0, 9.2387432590899063)"
      ]
     },
     "execution_count": 18,
     "metadata": {},
     "output_type": "execute_result"
    },
    {
     "data": {
      "image/png": "[encoded data removed]",
      "text/plain": [
       "<matplotlib.figure.Figure at 0x10ca63f28>"
      ]
     },
     "metadata": {},
     "output_type": "display_data"
    }
   ],
   "source": [
    "q = np.linspace(0., 1., 1000)\n",
    "d = posterior(n, h, q)\n",
    "plt.plot(q, d, \"-k\")\n",
    "plt.ylim(0, d.max()+1)"
   ]
  },
  {
   "cell_type": "markdown",
   "metadata": {
    "collapsed": true
   },
   "source": [
    "# 7.4 分割表とカイ二乗検定を用いた、2変数間の相関推定"
   ]
  },
  {
   "cell_type": "code",
   "execution_count": 19,
   "metadata": {
    "collapsed": false
   },
   "outputs": [
    {
     "name": "stdout",
     "output_type": "stream",
     "text": [
      "70\n"
     ]
    },
    {
     "data": {
      "text/html": [
       "<div>\n",
       "<table border=\"1\" class=\"dataframe\">\n",
       "  <thead>\n",
       "    <tr style=\"text-align: right;\">\n",
       "      <th></th>\n",
       "      <th>year</th>\n",
       "      <th>tournament</th>\n",
       "      <th>start date</th>\n",
       "      <th>type</th>\n",
       "    </tr>\n",
       "  </thead>\n",
       "  <tbody>\n",
       "    <tr>\n",
       "      <th>1174</th>\n",
       "      <td>2012</td>\n",
       "      <td>Australian Open, Australia</td>\n",
       "      <td>16.01.2012</td>\n",
       "      <td>GS</td>\n",
       "    </tr>\n",
       "    <tr>\n",
       "      <th>1175</th>\n",
       "      <td>2012</td>\n",
       "      <td>Doha, Qatar</td>\n",
       "      <td>02.01.2012</td>\n",
       "      <td>250</td>\n",
       "    </tr>\n",
       "    <tr>\n",
       "      <th>1176</th>\n",
       "      <td>2012</td>\n",
       "      <td>Doha, Qatar</td>\n",
       "      <td>02.01.2012</td>\n",
       "      <td>250</td>\n",
       "    </tr>\n",
       "    <tr>\n",
       "      <th>1177</th>\n",
       "      <td>2012</td>\n",
       "      <td>Doha, Qatar</td>\n",
       "      <td>02.01.2012</td>\n",
       "      <td>250</td>\n",
       "    </tr>\n",
       "    <tr>\n",
       "      <th>1178</th>\n",
       "      <td>2012</td>\n",
       "      <td>Doha, Qatar</td>\n",
       "      <td>02.01.2012</td>\n",
       "      <td>250</td>\n",
       "    </tr>\n",
       "  </tbody>\n",
       "</table>\n",
       "</div>"
      ],
      "text/plain": [
       "      year                  tournament  start date type\n",
       "1174  2012  Australian Open, Australia  16.01.2012   GS\n",
       "1175  2012                 Doha, Qatar  02.01.2012  250\n",
       "1176  2012                 Doha, Qatar  02.01.2012  250\n",
       "1177  2012                 Doha, Qatar  02.01.2012  250\n",
       "1178  2012                 Doha, Qatar  02.01.2012  250"
      ]
     },
     "execution_count": 19,
     "metadata": {},
     "output_type": "execute_result"
    }
   ],
   "source": [
    "file_name = \"data/tennis/{name}.csv\".format(name=player.replace(\" \", \"-\"))\n",
    "df = pd.read_csv(file_name)\n",
    "print(str(len(df.columns)))\n",
    "df[df.columns[:4]].tail()"
   ]
  },
  {
   "cell_type": "code",
   "execution_count": 20,
   "metadata": {
    "collapsed": false
   },
   "outputs": [
    {
     "data": {
      "text/plain": [
       "[<matplotlib.lines.Line2D at 0x107ece0f0>]"
      ]
     },
     "execution_count": 20,
     "metadata": {},
     "output_type": "execute_result"
    },
    {
     "data": {
      "image/png": "[encoded data removed]",
      "text/plain": [
       "<matplotlib.figure.Figure at 0x10ca63c88>"
      ]
     },
     "metadata": {},
     "output_type": "display_data"
    }
   ],
   "source": [
    "npoints = df[\"player1 total points total\"]\n",
    "points = df[\"player1 total points won\"]/npoints\n",
    "aces = df[\"player1 aces\"] /npoints\n",
    "plt.plot(points, aces, \".\")"
   ]
  },
  {
   "cell_type": "code",
   "execution_count": 21,
   "metadata": {
    "collapsed": false
   },
   "outputs": [
    {
     "data": {
      "text/html": [
       "<div>\n",
       "<table border=\"1\" class=\"dataframe\">\n",
       "  <thead>\n",
       "    <tr style=\"text-align: right;\">\n",
       "      <th></th>\n",
       "      <th>aces</th>\n",
       "      <th>points</th>\n",
       "    </tr>\n",
       "  </thead>\n",
       "  <tbody>\n",
       "    <tr>\n",
       "      <th>1173</th>\n",
       "      <td>0.024390</td>\n",
       "      <td>0.585366</td>\n",
       "    </tr>\n",
       "    <tr>\n",
       "      <th>1174</th>\n",
       "      <td>0.039855</td>\n",
       "      <td>0.471014</td>\n",
       "    </tr>\n",
       "    <tr>\n",
       "      <th>1175</th>\n",
       "      <td>0.046512</td>\n",
       "      <td>0.639535</td>\n",
       "    </tr>\n",
       "    <tr>\n",
       "      <th>1176</th>\n",
       "      <td>0.020202</td>\n",
       "      <td>0.606061</td>\n",
       "    </tr>\n",
       "    <tr>\n",
       "      <th>1177</th>\n",
       "      <td>0.069364</td>\n",
       "      <td>0.531792</td>\n",
       "    </tr>\n",
       "  </tbody>\n",
       "</table>\n",
       "</div>"
      ],
      "text/plain": [
       "          aces    points\n",
       "1173  0.024390  0.585366\n",
       "1174  0.039855  0.471014\n",
       "1175  0.046512  0.639535\n",
       "1176  0.020202  0.606061\n",
       "1177  0.069364  0.531792"
      ]
     },
     "execution_count": 21,
     "metadata": {},
     "output_type": "execute_result"
    }
   ],
   "source": [
    "df_bis = pd.DataFrame({\"points\":points, \"aces\":aces}).dropna()\n",
    "df_bis.tail()"
   ]
  },
  {
   "cell_type": "code",
   "execution_count": 22,
   "metadata": {
    "collapsed": false
   },
   "outputs": [
    {
     "data": {
      "text/html": [
       "<div>\n",
       "<table border=\"1\" class=\"dataframe\">\n",
       "  <thead>\n",
       "    <tr style=\"text-align: right;\">\n",
       "      <th></th>\n",
       "      <th>aces</th>\n",
       "      <th>points</th>\n",
       "    </tr>\n",
       "  </thead>\n",
       "  <tbody>\n",
       "    <tr>\n",
       "      <th>aces</th>\n",
       "      <td>1.000000</td>\n",
       "      <td>0.255457</td>\n",
       "    </tr>\n",
       "    <tr>\n",
       "      <th>points</th>\n",
       "      <td>0.255457</td>\n",
       "      <td>1.000000</td>\n",
       "    </tr>\n",
       "  </tbody>\n",
       "</table>\n",
       "</div>"
      ],
      "text/plain": [
       "            aces    points\n",
       "aces    1.000000  0.255457\n",
       "points  0.255457  1.000000"
      ]
     },
     "execution_count": 22,
     "metadata": {},
     "output_type": "execute_result"
    }
   ],
   "source": [
    "df_bis.corr()"
   ]
  },
  {
   "cell_type": "code",
   "execution_count": 23,
   "metadata": {
    "collapsed": false
   },
   "outputs": [
    {
     "data": {
      "text/html": [
       "<div>\n",
       "<table border=\"1\" class=\"dataframe\">\n",
       "  <thead>\n",
       "    <tr style=\"text-align: right;\">\n",
       "      <th></th>\n",
       "      <th>aces</th>\n",
       "      <th>points</th>\n",
       "      <th>result</th>\n",
       "      <th>manyaces</th>\n",
       "    </tr>\n",
       "  </thead>\n",
       "  <tbody>\n",
       "    <tr>\n",
       "      <th>1173</th>\n",
       "      <td>0.024390</td>\n",
       "      <td>0.585366</td>\n",
       "      <td>True</td>\n",
       "      <td>False</td>\n",
       "    </tr>\n",
       "    <tr>\n",
       "      <th>1174</th>\n",
       "      <td>0.039855</td>\n",
       "      <td>0.471014</td>\n",
       "      <td>False</td>\n",
       "      <td>False</td>\n",
       "    </tr>\n",
       "    <tr>\n",
       "      <th>1175</th>\n",
       "      <td>0.046512</td>\n",
       "      <td>0.639535</td>\n",
       "      <td>True</td>\n",
       "      <td>True</td>\n",
       "    </tr>\n",
       "    <tr>\n",
       "      <th>1176</th>\n",
       "      <td>0.020202</td>\n",
       "      <td>0.606061</td>\n",
       "      <td>True</td>\n",
       "      <td>False</td>\n",
       "    </tr>\n",
       "    <tr>\n",
       "      <th>1177</th>\n",
       "      <td>0.069364</td>\n",
       "      <td>0.531792</td>\n",
       "      <td>False</td>\n",
       "      <td>True</td>\n",
       "    </tr>\n",
       "  </tbody>\n",
       "</table>\n",
       "</div>"
      ],
      "text/plain": [
       "          aces    points result manyaces\n",
       "1173  0.024390  0.585366   True    False\n",
       "1174  0.039855  0.471014  False    False\n",
       "1175  0.046512  0.639535   True     True\n",
       "1176  0.020202  0.606061   True    False\n",
       "1177  0.069364  0.531792  False     True"
      ]
     },
     "execution_count": 23,
     "metadata": {},
     "output_type": "execute_result"
    }
   ],
   "source": [
    "df_bis[\"result\"] = df_bis[\"points\"] > df_bis[\"points\"].median()\n",
    "df_bis[\"manyaces\"] = df_bis[\"aces\"] > df_bis[\"aces\"].median()\n",
    "df_bis.tail()"
   ]
  },
  {
   "cell_type": "code",
   "execution_count": 24,
   "metadata": {
    "collapsed": false
   },
   "outputs": [
    {
     "data": {
      "text/html": [
       "<div>\n",
       "<table border=\"1\" class=\"dataframe\">\n",
       "  <thead>\n",
       "    <tr style=\"text-align: right;\">\n",
       "      <th>manyaces</th>\n",
       "      <th>False</th>\n",
       "      <th>True</th>\n",
       "    </tr>\n",
       "    <tr>\n",
       "      <th>result</th>\n",
       "      <th></th>\n",
       "      <th></th>\n",
       "    </tr>\n",
       "  </thead>\n",
       "  <tbody>\n",
       "    <tr>\n",
       "      <th>False</th>\n",
       "      <td>300</td>\n",
       "      <td>214</td>\n",
       "    </tr>\n",
       "    <tr>\n",
       "      <th>True</th>\n",
       "      <td>214</td>\n",
       "      <td>299</td>\n",
       "    </tr>\n",
       "  </tbody>\n",
       "</table>\n",
       "</div>"
      ],
      "text/plain": [
       "manyaces  False  True \n",
       "result                \n",
       "False       300    214\n",
       "True        214    299"
      ]
     },
     "execution_count": 24,
     "metadata": {},
     "output_type": "execute_result"
    }
   ],
   "source": [
    "pd.crosstab(df_bis[\"result\"], df_bis[\"manyaces\"])"
   ]
  },
  {
   "cell_type": "code",
   "execution_count": 25,
   "metadata": {
    "collapsed": false
   },
   "outputs": [
    {
     "data": {
      "text/plain": [
       "(27.809858855369555,\n",
       " 1.3384233799633629e-07,\n",
       " 1,\n",
       " array([[ 257.25024343,  256.74975657],\n",
       "        [ 256.74975657,  256.25024343]]))"
      ]
     },
     "execution_count": 25,
     "metadata": {},
     "output_type": "execute_result"
    }
   ],
   "source": [
    "st.chi2_contingency(pd.crosstab(df_bis[\"result\"], df_bis[\"manyaces\"]))"
   ]
  },
  {
   "cell_type": "markdown",
   "metadata": {
    "collapsed": true
   },
   "source": [
    "# 7.5 最尤法"
   ]
  },
  {
   "cell_type": "code",
   "execution_count": 26,
   "metadata": {
    "collapsed": true
   },
   "outputs": [],
   "source": [
    "import statsmodels.datasets as ds"
   ]
  },
  {
   "cell_type": "code",
   "execution_count": 27,
   "metadata": {
    "collapsed": false
   },
   "outputs": [
    {
     "data": {
      "text/html": [
       "<div>\n",
       "<table border=\"1\" class=\"dataframe\">\n",
       "  <thead>\n",
       "    <tr style=\"text-align: right;\">\n",
       "      <th></th>\n",
       "      <th>survival</th>\n",
       "      <th>censors</th>\n",
       "      <th>age</th>\n",
       "    </tr>\n",
       "  </thead>\n",
       "  <tbody>\n",
       "    <tr>\n",
       "      <th>64</th>\n",
       "      <td>14</td>\n",
       "      <td>1</td>\n",
       "      <td>40.3</td>\n",
       "    </tr>\n",
       "    <tr>\n",
       "      <th>65</th>\n",
       "      <td>167</td>\n",
       "      <td>0</td>\n",
       "      <td>26.7</td>\n",
       "    </tr>\n",
       "    <tr>\n",
       "      <th>66</th>\n",
       "      <td>110</td>\n",
       "      <td>0</td>\n",
       "      <td>23.7</td>\n",
       "    </tr>\n",
       "    <tr>\n",
       "      <th>67</th>\n",
       "      <td>13</td>\n",
       "      <td>0</td>\n",
       "      <td>28.9</td>\n",
       "    </tr>\n",
       "    <tr>\n",
       "      <th>68</th>\n",
       "      <td>1</td>\n",
       "      <td>0</td>\n",
       "      <td>35.2</td>\n",
       "    </tr>\n",
       "  </tbody>\n",
       "</table>\n",
       "</div>"
      ],
      "text/plain": [
       "    survival  censors   age\n",
       "64        14        1  40.3\n",
       "65       167        0  26.7\n",
       "66       110        0  23.7\n",
       "67        13        0  28.9\n",
       "68         1        0  35.2"
      ]
     },
     "execution_count": 27,
     "metadata": {},
     "output_type": "execute_result"
    }
   ],
   "source": [
    "data = ds.heart.load_pandas().data\n",
    "data.tail()"
   ]
  },
  {
   "cell_type": "code",
   "execution_count": 28,
   "metadata": {
    "collapsed": false
   },
   "outputs": [],
   "source": [
    "data = data[data.censors==1]\n",
    "survival = data.survival"
   ]
  },
  {
   "cell_type": "code",
   "execution_count": 32,
   "metadata": {
    "collapsed": false
   },
   "outputs": [
    {
     "data": {
      "text/plain": [
       "(array([ 28.,   4.,   2.,   3.,   0.,   0.,   2.,   0.,   1.,   2.,   0.,\n",
       "          2.,   0.,   0.,   1.]),\n",
       " array([  1.00000000e+00,   9.09333333e+01,   1.80866667e+02,\n",
       "          2.70800000e+02,   3.60733333e+02,   4.50666667e+02,\n",
       "          5.40600000e+02,   6.30533333e+02,   7.20466667e+02,\n",
       "          8.10400000e+02,   9.00333333e+02,   9.90266667e+02,\n",
       "          1.08020000e+03,   1.17013333e+03,   1.26006667e+03,\n",
       "          1.35000000e+03]),\n",
       " <a list of 15 Patch objects>)"
      ]
     },
     "execution_count": 32,
     "metadata": {},
     "output_type": "execute_result"
    },
    {
     "data": {
      "image/png": "[encoded data removed]",
      "text/plain": [
       "<matplotlib.figure.Figure at 0x10d64e828>"
      ]
     },
     "metadata": {},
     "output_type": "display_data"
    }
   ],
   "source": [
    "plt.subplot(121)\n",
    "plt.plot(sorted(survival)[::-1], \"o\")\n",
    "plt.subplot(122)\n",
    "plt.hist(survival, bins=15)"
   ]
  },
  {
   "cell_type": "code",
   "execution_count": 33,
   "metadata": {
    "collapsed": true
   },
   "outputs": [],
   "source": [
    "smean = survival.mean()\n",
    "rate = 1. / smean"
   ]
  },
  {
   "cell_type": "code",
   "execution_count": 34,
   "metadata": {
    "collapsed": true
   },
   "outputs": [],
   "source": [
    "smax = survival.max()\n",
    "days = np.linspace(0., smax, 1000)\n",
    "dt = smax / 999."
   ]
  },
  {
   "cell_type": "code",
   "execution_count": 35,
   "metadata": {
    "collapsed": true
   },
   "outputs": [],
   "source": [
    "dist_exp = st.expon.pdf(days, scale= 1./rate)"
   ]
  },
  {
   "cell_type": "code",
   "execution_count": 36,
   "metadata": {
    "collapsed": false
   },
   "outputs": [
    {
     "data": {
      "text/plain": [
       "[<matplotlib.lines.Line2D at 0x10d74f940>]"
      ]
     },
     "execution_count": 36,
     "metadata": {},
     "output_type": "execute_result"
    },
    {
     "data": {
      "image/png": "[encoded data removed]",
      "text/plain": [
       "<matplotlib.figure.Figure at 0x10d74fb00>"
      ]
     },
     "metadata": {},
     "output_type": "display_data"
    }
   ],
   "source": [
    "nbins = 30\n",
    "plt.hist(survival, nbins)\n",
    "plt.plot(days, dist_exp*len(survival)*smax/nbins, \"-r\", lw=3)"
   ]
  },
  {
   "cell_type": "code",
   "execution_count": 39,
   "metadata": {
    "collapsed": false
   },
   "outputs": [
    {
     "data": {
      "text/plain": [
       "(0.99999999994836486, 222.28880590143666)"
      ]
     },
     "execution_count": 39,
     "metadata": {},
     "output_type": "execute_result"
    }
   ],
   "source": [
    "dist = st.expon\n",
    "args = dist.fit(survival)\n",
    "args"
   ]
  },
  {
   "cell_type": "code",
   "execution_count": 40,
   "metadata": {
    "collapsed": false
   },
   "outputs": [
    {
     "data": {
      "text/plain": [
       "KstestResult(statistic=0.36199685486406347, pvalue=8.6470960143358866e-06)"
      ]
     },
     "execution_count": 40,
     "metadata": {},
     "output_type": "execute_result"
    }
   ],
   "source": [
    "st.kstest(survival, dist.cdf, args)"
   ]
  },
  {
   "cell_type": "code",
   "execution_count": 41,
   "metadata": {
    "collapsed": false
   },
   "outputs": [
    {
     "data": {
      "text/plain": [
       "KstestResult(statistic=0.18773446101946889, pvalue=0.073211497000863268)"
      ]
     },
     "execution_count": 41,
     "metadata": {},
     "output_type": "execute_result"
    }
   ],
   "source": [
    "dist = st.fatiguelife\n",
    "args  = dist.fit(survival)\n",
    "st.kstest(survival, dist.cdf, args)"
   ]
  },
  {
   "cell_type": "code",
   "execution_count": 45,
   "metadata": {
    "collapsed": false
   },
   "outputs": [
    {
     "data": {
      "text/plain": [
       "<matplotlib.legend.Legend at 0x10e091278>"
      ]
     },
     "execution_count": 45,
     "metadata": {},
     "output_type": "execute_result"
    },
    {
     "data": {
      "image/png": "[encoded data removed]",
      "text/plain": [
       "<matplotlib.figure.Figure at 0x10d430080>"
      ]
     },
     "metadata": {},
     "output_type": "display_data"
    }
   ],
   "source": [
    "dist_fl = dist.pdf(days, *args)\n",
    "nbins = 30\n",
    "plt.hist(survival, nbins)\n",
    "plt.plot(days, dist_exp*len(survival)*smax/nbins, \"-r\", lw=3, label=\"exp\")\n",
    "plt.plot(days, dist_fl*len(survival)*smax/nbins, \"-g\", lw=3, label=\"BS\")\n",
    "plt.legend()"
   ]
  },
  {
   "cell_type": "markdown",
   "metadata": {},
   "source": [
    "# 7.6 カーネル密度推定"
   ]
  },
  {
   "cell_type": "markdown",
   "metadata": {},
   "source": [
    "# 7.7 マルコフ連鎖モンテカルロ法"
   ]
  },
  {
   "cell_type": "code",
   "execution_count": 46,
   "metadata": {
    "collapsed": true
   },
   "outputs": [],
   "source": [
    "import pymc"
   ]
  },
  {
   "cell_type": "code",
   "execution_count": 47,
   "metadata": {
    "collapsed": true
   },
   "outputs": [],
   "source": [
    "df = pd.read_csv(\"data/stroms/Allstorms.ibtracs_wmo.v03r05.csv\", delim_whitespace=False)"
   ]
  },
  {
   "cell_type": "code",
   "execution_count": 49,
   "metadata": {
    "collapsed": false
   },
   "outputs": [],
   "source": [
    "cnt = df[df[\"Basin\"] == \" NA\"].groupby(\"Season\")[\"Serial_Num\"].nunique()"
   ]
  },
  {
   "cell_type": "code",
   "execution_count": 51,
   "metadata": {
    "collapsed": false
   },
   "outputs": [
    {
     "data": {
      "text/plain": [
       "(1851, 2012)"
      ]
     },
     "execution_count": 51,
     "metadata": {},
     "output_type": "execute_result"
    },
    {
     "data": {
      "image/png": "[encoded data removed]",
      "text/plain": [
       "<matplotlib.figure.Figure at 0x1119e2208>"
      ]
     },
     "metadata": {},
     "output_type": "display_data"
    }
   ],
   "source": [
    "yeas = cnt.index\n",
    "y0, y1 = yeas[0], yeas[-1]\n",
    "arr = cnt.values\n",
    "plt.plot(yeas, arr, \"-ok\")\n",
    "plt.xlim(y0, y1)"
   ]
  },
  {
   "cell_type": "code",
   "execution_count": 52,
   "metadata": {
    "collapsed": true
   },
   "outputs": [],
   "source": [
    "switchpoint = pymc.DiscreteUniform(\"switchpoint\", lower=0, upper=len(arr))\n",
    "early_mean = pymc.Exponential(\"early_mean\", beta=1)\n",
    "late_mean = pymc.Exponential(\"late_mean\", beta=1)"
   ]
  },
  {
   "cell_type": "code",
   "execution_count": 54,
   "metadata": {
    "collapsed": false
   },
   "outputs": [],
   "source": [
    "@pymc.deterministic(plot=False)\n",
    "def rate(s=switchpoint, e=early_mean, l=late_mean):\n",
    "    out=np.empty(len(arr))\n",
    "    out[:s] = e\n",
    "    out[s:] = l\n",
    "    return out"
   ]
  },
  {
   "cell_type": "code",
   "execution_count": 55,
   "metadata": {
    "collapsed": true
   },
   "outputs": [],
   "source": [
    "stoms = pymc.Poisson(\"stroms\", mu=rate, value=arr, observed=True)"
   ]
  },
  {
   "cell_type": "code",
   "execution_count": 57,
   "metadata": {
    "collapsed": false
   },
   "outputs": [
    {
     "name": "stdout",
     "output_type": "stream",
     "text": [
      " [-----------------100%-----------------] 10000 of 10000 complete in 1.2 sec"
     ]
    }
   ],
   "source": [
    "model= pymc.Model([switchpoint, early_mean, late_mean, rate, stoms])\n",
    "mcmc = pymc.MCMC(model)\n",
    "mcmc.sample(iter=10000, burn=1000, thin=10)"
   ]
  },
  {
   "cell_type": "code",
   "execution_count": 59,
   "metadata": {
    "collapsed": false
   },
   "outputs": [
    {
     "data": {
      "text/plain": [
       "[<matplotlib.lines.Line2D at 0x1132f7160>]"
      ]
     },
     "execution_count": 59,
     "metadata": {},
     "output_type": "execute_result"
    },
    {
     "data": {
      "image/png": "[encoded data removed]",
      "text/plain": [
       "<matplotlib.figure.Figure at 0x111b238d0>"
      ]
     },
     "metadata": {},
     "output_type": "display_data"
    }
   ],
   "source": [
    "plt.subplot(311)\n",
    "plt.plot(mcmc.trace(\"switchpoint\")[:])\n",
    "plt.subplot(312)\n",
    "plt.plot(mcmc.trace(\"early_mean\")[:])\n",
    "plt.subplot(313)\n",
    "plt.plot(mcmc.trace(\"late_mean\")[:])\n"
   ]
  },
  {
   "cell_type": "code",
   "execution_count": 62,
   "metadata": {
    "collapsed": false
   },
   "outputs": [
    {
     "data": {
      "text/plain": [
       "(array([   4.,    7.,   12.,   47.,   85.,  117.,  153.,  162.,  122.,\n",
       "          91.,   52.,   29.,   11.,    6.,    2.]),\n",
       " array([ 12.78977325,  12.96807779,  13.14638234,  13.32468689,\n",
       "         13.50299144,  13.68129598,  13.85960053,  14.03790508,\n",
       "         14.21620963,  14.39451418,  14.57281872,  14.75112327,\n",
       "         14.92942782,  15.10773237,  15.28603691,  15.46434146]),\n",
       " <a list of 15 Patch objects>)"
      ]
     },
     "execution_count": 62,
     "metadata": {},
     "output_type": "execute_result"
    },
    {
     "data": {
      "image/png": "[encoded data removed]",
      "text/plain": [
       "<matplotlib.figure.Figure at 0x11224a898>"
      ]
     },
     "metadata": {},
     "output_type": "display_data"
    }
   ],
   "source": [
    "plt.subplot(131)\n",
    "plt.hist(mcmc.trace(\"switchpoint\")[:]+y0, 15)\n",
    "plt.subplot(132)\n",
    "plt.hist(mcmc.trace(\"early_mean\")[:], 15)\n",
    "plt.subplot(133)\n",
    "plt.hist(mcmc.trace(\"late_mean\")[:], 15)"
   ]
  },
  {
   "cell_type": "code",
   "execution_count": 64,
   "metadata": {
    "collapsed": false
   },
   "outputs": [
    {
     "name": "stdout",
     "output_type": "stream",
     "text": [
      "(1931.2055555555555, 7.3227819351191119, 14.071157406472722)\n"
     ]
    }
   ],
   "source": [
    "yp = y0 + mcmc.trace(\"switchpoint\")[:].mean()\n",
    "em = mcmc.trace(\"early_mean\")[:].mean()\n",
    "lm = mcmc.trace(\"late_mean\")[:].mean()\n",
    "print((yp,em,lm))"
   ]
  },
  {
   "cell_type": "code",
   "execution_count": 66,
   "metadata": {
    "collapsed": false
   },
   "outputs": [
    {
     "data": {
      "text/plain": [
       "(1851, 2012)"
      ]
     },
     "execution_count": 66,
     "metadata": {},
     "output_type": "execute_result"
    },
    {
     "data": {
      "image/png": "[encoded data removed]",
      "text/plain": [
       "<matplotlib.figure.Figure at 0x11257aba8>"
      ]
     },
     "metadata": {},
     "output_type": "display_data"
    }
   ],
   "source": [
    "plt.plot(yeas, arr, \"-ok\")\n",
    "plt.axvline(yp, color=\"k\", ls=\"--\")\n",
    "plt.plot([y0, yp], [em, em], \"-b\", lw=3)\n",
    "plt.plot([yp, y1], [lm, lm], \"-r\", lw=3)\n",
    "plt.xlim(y0, y1)"
   ]
  },
  {
   "cell_type": "code",
   "execution_count": null,
   "metadata": {
    "collapsed": true
   },
   "outputs": [],
   "source": []
  }
 ],
 "metadata": {
  "kernelspec": {
   "display_name": "Python 3",
   "language": "python",
   "name": "python3"
  },
  "language_info": {
   "codemirror_mode": {
    "name": "ipython",
    "version": 3
   },
   "file_extension": ".py",
   "mimetype": "text/x-python",
   "name": "python",
   "nbconvert_exporter": "python",
   "pygments_lexer": "ipython3",
   "version": "3.5.1"
  }
 },
 "nbformat": 4,
 "nbformat_minor": 0
}
