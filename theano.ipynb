{
 "cells": [
  {
   "cell_type": "markdown",
   "metadata": {},
   "source": [
    "# theanoでも線形回帰をやってみる\n",
    "\n",
    "詳しくはtensorflowのnotebookを参照"
   ]
  },
  {
   "cell_type": "code",
   "execution_count": 1,
   "metadata": {
    "collapsed": true
   },
   "outputs": [],
   "source": [
    "import numpy as np\n",
    "import theano\n",
    "import theano.tensor as T"
   ]
  },
  {
   "cell_type": "markdown",
   "metadata": {},
   "source": [
    "TheanoでもTheanoのVariableを定義する。Theanoではscalorやvectorやmatrixを明確に定義しないといけない。\n",
    "また、更新するような変数についてはsharedで定義する。これに関しては、scalorなどの定義は不要である。\n",
    "また、微分は、`T.grad`で計算でき、第一引数には対象となる関数、第二引数には微分したい変数を入れる。"
   ]
  },
  {
   "cell_type": "code",
   "execution_count": 2,
   "metadata": {
    "collapsed": false
   },
   "outputs": [
    {
     "name": "stdout",
     "output_type": "stream",
     "text": [
      "0.8245496255283107\n",
      "0.0\n"
     ]
    }
   ],
   "source": [
    "x = T.vector(\"x\")\n",
    "y = T.vector(\"y\")\n",
    "w = theano.shared(np.random.rand(), name=\"w\")\n",
    "print(w.get_value())\n",
    "b = theano.shared(0., name=\"b\")\n",
    "print(b.get_value())\n",
    "prediction = w * x  + b\n",
    "cost = T.mean(T.sqr(y - prediction))\n",
    "gw,gb =  T.grad(cost, [w, b])"
   ]
  },
  {
   "cell_type": "markdown",
   "metadata": {},
   "source": [
    "Theanoでは関数をコンパイルする必要がある。`theano.function`で、第一引数は入力変数をリストで、第二引数は出力関数を入れる。"
   ]
  },
  {
   "cell_type": "code",
   "execution_count": 3,
   "metadata": {
    "collapsed": false
   },
   "outputs": [],
   "source": [
    "predict = theano.function([x], prediction)"
   ]
  },
  {
   "cell_type": "markdown",
   "metadata": {},
   "source": [
    "これで、predictという関数が作られ、引数を与えることで、実行できる"
   ]
  },
  {
   "cell_type": "code",
   "execution_count": 4,
   "metadata": {
    "collapsed": false
   },
   "outputs": [
    {
     "data": {
      "text/plain": [
       "array([ 0.82454963,  1.64909925])"
      ]
     },
     "execution_count": 4,
     "metadata": {},
     "output_type": "execute_result"
    }
   ],
   "source": [
    "predict([1,2])"
   ]
  },
  {
   "cell_type": "markdown",
   "metadata": {},
   "source": [
    "さて、theanoでは、最急降下法などの実装がないので、自分でパラメーターを更新する必要がある。\n",
    "上記で求めておいた、各変数での偏微分とlearning_rateで、各変数を動かすことで、costが最小となるようにする。"
   ]
  },
  {
   "cell_type": "code",
   "execution_count": 5,
   "metadata": {
    "collapsed": false
   },
   "outputs": [
    {
     "data": {
      "text/plain": [
       "array([ 0.82454963,  1.64909925])"
      ]
     },
     "execution_count": 5,
     "metadata": {},
     "output_type": "execute_result"
    }
   ],
   "source": [
    "learning_rate = .5\n",
    "updates = ((w, w - learning_rate*gw), (b, b - learning_rate*gb))\n",
    "train = theano.function([x, y], prediction, updates = updates)\n",
    "train([1,2],[1,2])"
   ]
  },
  {
   "cell_type": "code",
   "execution_count": 6,
   "metadata": {
    "collapsed": false
   },
   "outputs": [
    {
     "name": "stdout",
     "output_type": "stream",
     "text": [
      "x_data ->  [ 0.18078901  0.58026898  0.88836986  0.57172632  0.12188106]\n",
      "y_data ->  [ 0.31807891  0.35802692  0.38883701  0.35717264  0.31218812]\n"
     ]
    }
   ],
   "source": [
    "x_data = np.random.rand(100).astype(\"float32\")\n",
    "y_data = x_data * 0.1 + 0.3\n",
    "print(\"x_data -> \", x_data[:5])\n",
    "print(\"y_data -> \", y_data[:5])"
   ]
  },
  {
   "cell_type": "code",
   "execution_count": 7,
   "metadata": {
    "collapsed": false
   },
   "outputs": [
    {
     "name": "stdout",
     "output_type": "stream",
     "text": [
      "0 0.8353584227469867 -0.3327954443041955\n",
      "20 0.3032191396472578 0.1814280739345419\n",
      "40 0.15011642487238233 0.2707586641215669\n",
      "60 0.1123593516704801 0.29278872176614046\n",
      "80 0.10304797806890166 0.2982216136668453\n",
      "100 0.10075167512495938 0.29956143378356725\n",
      "120 0.10018537766596107 0.29989185043421696\n",
      "140 0.10004572152306668 0.2999733353751161\n",
      "160 0.10001128054520564 0.29999343059604483\n",
      "180 0.10000278696281509 0.2999983863326474\n",
      "200 0.10000069233756613 0.29999960848020985\n"
     ]
    }
   ],
   "source": [
    "for step in range(201):\n",
    "    train(x_data, y_data)\n",
    "    if step % 20 == 0:\n",
    "        print(step, w.get_value(), b.get_value())"
   ]
  },
  {
   "cell_type": "markdown",
   "metadata": {},
   "source": [
    "上手く学習できている"
   ]
  }
 ],
 "metadata": {
  "kernelspec": {
   "display_name": "Python 3",
   "language": "python",
   "name": "python3"
  },
  "language_info": {
   "codemirror_mode": {
    "name": "ipython",
    "version": 3
   },
   "file_extension": ".py",
   "mimetype": "text/x-python",
   "name": "python",
   "nbconvert_exporter": "python",
   "pygments_lexer": "ipython3",
   "version": "3.4.3"
  }
 },
 "nbformat": 4,
 "nbformat_minor": 0
}
