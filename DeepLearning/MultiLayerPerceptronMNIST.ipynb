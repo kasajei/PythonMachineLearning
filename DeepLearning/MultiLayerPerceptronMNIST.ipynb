{
 "cells": [
  {
   "cell_type": "markdown",
   "metadata": {},
   "source": [
    "# Multi Layer Perceptron\n",
    "\n",
    "パーセプトロンを複数レイヤーつなげて、学習させてみる。活性化関数としては、reluを使い、最後の評価は`L.Classifier`のデフォルトで使うことにする。最適化アルゴリズムはAdamを使う。"
   ]
  },
  {
   "cell_type": "code",
   "execution_count": 1,
   "metadata": {
    "collapsed": false
   },
   "outputs": [],
   "source": [
    "import numpy as np\n",
    "import chainer\n",
    "from chainer import cuda, Function, gradient_check, Variable, optimizers, serializers, utils\n",
    "from chainer import Link, Chain, ChainList\n",
    "import chainer.functions as F\n",
    "import chainer.links as L"
   ]
  },
  {
   "cell_type": "code",
   "execution_count": 2,
   "metadata": {
    "collapsed": false
   },
   "outputs": [
    {
     "name": "stdout",
     "output_type": "stream",
     "text": [
      "50000 10000 10000\n",
      "784\n",
      "[[ 0.  0.  0. ...,  0.  0.  0.]\n",
      " [ 0.  0.  0. ...,  0.  0.  0.]\n",
      " [ 0.  0.  0. ...,  0.  0.  0.]\n",
      " ..., \n",
      " [ 0.  0.  0. ...,  0.  0.  0.]\n",
      " [ 0.  0.  0. ...,  0.  0.  0.]\n",
      " [ 0.  0.  0. ...,  0.  0.  0.]]\n",
      "28x28の画像のモノクロ(白0→黒1)が１次元配列で入っている [[ 0.  0.  0. ...,  0.  0.  0.]\n",
      " [ 0.  0.  0. ...,  0.  0.  0.]\n",
      " [ 0.  0.  0. ...,  0.  0.  0.]\n",
      " [ 0.  0.  0. ...,  0.  0.  0.]\n",
      " [ 0.  0.  0. ...,  0.  0.  0.]]\n",
      "最初のラベルは 5\n",
      "[5 0 4 ..., 8 4 8]\n"
     ]
    }
   ],
   "source": [
    "import pickle, gzip\n",
    "f = gzip.open('../data/mnist.pkl.gz', 'rb')\n",
    "train_set, valid_set, test_set = pickle.load(f, encoding='latin1')\n",
    "print(len(train_set[0]), len(valid_set[0]), len(test_set[0]))\n",
    "train_set_x, train_set_y  = train_set\n",
    "test_set_x, test_set_y = test_set\n",
    "print(len(train_set_x[0]))\n",
    "print(train_set_x)\n",
    "print(\"28x28の画像のモノクロ(白0→黒1)が１次元配列で入っている\",train_set_x[:5])\n",
    "print(\"最初のラベルは\",train_set_y[0])\n",
    "\n",
    "# あとで、softmax_cross_entropyを使うときに型の判定があり、np.int32じゃないといけない\n",
    "train_set_y = train_set_y.astype(np.int32)\n",
    "test_set_y = test_set_y.astype(np.int32)\n",
    "print(train_set_y )\n",
    "f.close()"
   ]
  },
  {
   "cell_type": "code",
   "execution_count": 3,
   "metadata": {
    "collapsed": false
   },
   "outputs": [
    {
     "data": {
      "image/png": "[encoded data removed]",
      "text/plain": [
       "<matplotlib.figure.Figure at 0x113783198>"
      ]
     },
     "metadata": {},
     "output_type": "display_data"
    },
    {
     "data": {
      "image/png": "[encoded data removed]",
      "text/plain": [
       "<matplotlib.figure.Figure at 0x1137831d0>"
      ]
     },
     "metadata": {},
     "output_type": "display_data"
    }
   ],
   "source": [
    "%matplotlib inline\n",
    "import matplotlib.pyplot as plt\n",
    "def draw_digit(data, size=28):\n",
    "    plt.figure(figsize=(2.5, 3))\n",
    "\n",
    "    X, Y = np.meshgrid(range(size),range(size))\n",
    "    Z = data.reshape(size,size)   # convert from vector to 28x28 matrix\n",
    "    Z = Z[::-1,:]             # flip vertical\n",
    "    plt.xlim(0,size-1)\n",
    "    plt.ylim(0,size-1)\n",
    "    plt.pcolor(X, Y, Z)\n",
    "    plt.gray()\n",
    "    plt.tick_params(labelbottom=\"off\")\n",
    "    plt.tick_params(labelleft=\"off\")\n",
    "\n",
    "    plt.show()\n",
    "\n",
    "draw_digit(train_set_x[0])\n",
    "draw_digit(train_set_x[1])"
   ]
  },
  {
   "cell_type": "code",
   "execution_count": 4,
   "metadata": {
    "collapsed": true
   },
   "outputs": [],
   "source": [
    "class MNISTMLPerceptron(Chain):\n",
    "    def __init__(self, hidden_num=1024, input_num = 784, output_num = 10):\n",
    "        super(MNISTMLPerceptron, self).__init__(\n",
    "            l1 = L.Linear(input_num, hidden_num),\n",
    "            l2 = L.Linear(hidden_num, hidden_num),\n",
    "            l3 = L.Linear(hidden_num, output_num)\n",
    "        )\n",
    "        self.input_num = input_num\n",
    "        self.hidden_num = hidden_num\n",
    "        self.output_num = output_num\n",
    "        \n",
    "    def __call__(self, x):\n",
    "        h1 = F.relu(self.l1(x))\n",
    "        h2 = F.relu(self.l2(h1))\n",
    "        return self.l3(h2)\n",
    "    \n",
    "model = L.Classifier(MNISTMLPerceptron())"
   ]
  },
  {
   "cell_type": "code",
   "execution_count": 5,
   "metadata": {
    "collapsed": false,
    "scrolled": true
   },
   "outputs": [
    {
     "name": "stdout",
     "output_type": "stream",
     "text": [
      "0 0.10999999940395355\n",
      "100 0.949999988079071\n",
      "200 0.9800000190734863\n",
      "300 0.9100000262260437\n",
      "400 0.9800000190734863\n",
      "500 0.9900000095367432\n",
      "600 0.9800000190734863\n",
      "700 0.9800000190734863\n",
      "800 0.9900000095367432\n",
      "900 0.949999988079071\n",
      "1000 0.9800000190734863\n"
     ]
    }
   ],
   "source": [
    "optimizer = optimizers.Adam()\n",
    "optimizer.setup(model)\n",
    "\n",
    "batch_size = 100\n",
    "for step in range(1001):\n",
    "    batch_index = np.random.randint(len(train_set[0])-batch_size)\n",
    "    batch_x = Variable(train_set_x[batch_index:batch_index+batch_size])\n",
    "    batch_y = Variable(train_set_y[batch_index:batch_index+batch_size])\n",
    "    optimizer.update(model, batch_x, batch_y)\n",
    "    if step % 100 == 0:\n",
    "        print(step, model.accuracy.data)\n",
    "    "
   ]
  },
  {
   "cell_type": "code",
   "execution_count": 6,
   "metadata": {
    "collapsed": false
   },
   "outputs": [
    {
     "name": "stdout",
     "output_type": "stream",
     "text": [
      "精度 → 0.972599983215332\n"
     ]
    }
   ],
   "source": [
    "model(Variable(test_set_x),Variable(test_set_y))\n",
    "print(\"精度 →\",model.accuracy.data)"
   ]
  },
  {
   "cell_type": "markdown",
   "metadata": {},
   "source": [
    "97%ぐらいの制度が出る\n",
    "\n",
    "次は、各層にdropoutを入れてみる。これは一般的には過学習を防ぐためと言われている。"
   ]
  },
  {
   "cell_type": "code",
   "execution_count": 7,
   "metadata": {
    "collapsed": true
   },
   "outputs": [],
   "source": [
    "class MNISTMLPerceptronDropout(MNISTMLPerceptron):\n",
    "    def __call__(self, x):\n",
    "        h1 = F.dropout(F.relu(self.l1(x)))\n",
    "        h2 = F.dropout(F.relu(self.l2(h1)))\n",
    "        return self.l3(h2)"
   ]
  },
  {
   "cell_type": "code",
   "execution_count": 8,
   "metadata": {
    "collapsed": false
   },
   "outputs": [
    {
     "name": "stdout",
     "output_type": "stream",
     "text": [
      "0 0.07999999821186066\n",
      "100 0.8799999952316284\n",
      "200 0.9700000286102295\n",
      "300 0.949999988079071\n",
      "400 0.9599999785423279\n",
      "500 0.9399999976158142\n",
      "600 0.9399999976158142\n",
      "700 0.9800000190734863\n",
      "800 0.9599999785423279\n",
      "900 0.9800000190734863\n",
      "1000 0.9700000286102295\n"
     ]
    }
   ],
   "source": [
    "model = L.Classifier(MNISTMLPerceptronDropout())\n",
    "optimizer.setup(model)\n",
    "batch_size = 100\n",
    "for step in range(1001):\n",
    "    batch_index = np.random.randint(len(train_set[0])-batch_size)\n",
    "    batch_x = Variable(train_set_x[batch_index:batch_index+batch_size])\n",
    "    batch_y = Variable(train_set_y[batch_index:batch_index+batch_size])\n",
    "    optimizer.update(model, batch_x, batch_y)\n",
    "    if step % 100 == 0:\n",
    "        print(step, model.accuracy.data)"
   ]
  },
  {
   "cell_type": "code",
   "execution_count": 9,
   "metadata": {
    "collapsed": false
   },
   "outputs": [
    {
     "name": "stdout",
     "output_type": "stream",
     "text": [
      "精度 → 0.9581000208854675\n"
     ]
    }
   ],
   "source": [
    "model(Variable(test_set_x),Variable(test_set_y))\n",
    "print(\"精度 →\",model.accuracy.data)"
   ]
  },
  {
   "cell_type": "markdown",
   "metadata": {},
   "source": [
    "ドロップアウトしたほうが、精度が低くなった。。。あれ？"
   ]
  },
  {
   "cell_type": "markdown",
   "metadata": {
    "collapsed": true
   },
   "source": [
    "# Autoencoderのファインチューニング\n",
    "\n",
    "ニューラルネットワークの階層が深くなっていくと、学習の速度が遅くなっていくことが知られている。それはパメーターの更新時が、深い階層で消失してしまうためであろうと考えられている。\n",
    "\n",
    "そのための対策法として、プレ学習というものが使われることがあり、その手法としてAutoencoderという教師なし学習が使われることがある。\n",
    "\n",
    "Autoencoderは入力層をそっくりそのまま出力層で再現するニューラルネットワークで、その学習したパラメーターを初期値として、クラス分類のニューラルネットワークを作ろうとする。\n",
    "\n",
    "そうすることにより、よりよい学習が行われる。\n",
    "\n",
    "まずはAutoencorderを作ってみる"
   ]
  },
  {
   "cell_type": "code",
   "execution_count": 10,
   "metadata": {
    "collapsed": false
   },
   "outputs": [],
   "source": [
    "class Autoencoder(Chain):\n",
    "    def __init__(self, input_layer_num = 784, hidden_layer_num=1024):\n",
    "        super(Autoencoder, self).__init__(\n",
    "            l1 = L.Linear(input_layer_num, hidden_layer_num),\n",
    "            l2 = L.Linear(hidden_layer_num, input_layer_num)\n",
    "        )\n",
    "        \n",
    "    def __call__(self, x):\n",
    "        h2 = self.predict(x)\n",
    "        self.accuracy = F.mean_squared_error(h2, x)\n",
    "        return self.accuracy\n",
    "    \n",
    "    def predict(self, x):\n",
    "        h1 = F.relu(self.l1(x))\n",
    "        h2 = self.l2(h1)\n",
    "        return h2"
   ]
  },
  {
   "cell_type": "code",
   "execution_count": 11,
   "metadata": {
    "collapsed": false
   },
   "outputs": [
    {
     "name": "stdout",
     "output_type": "stream",
     "text": [
      "0 0.15395627915859222\n",
      "100 0.012477193027734756\n",
      "200 0.006809466518461704\n",
      "300 0.005883700214326382\n",
      "400 0.003752612741664052\n",
      "500 0.002853567246347666\n",
      "600 0.0028303395956754684\n",
      "700 0.002062590792775154\n",
      "800 0.0022276584059000015\n",
      "900 0.0028191173914819956\n",
      "1000 0.0019323721062391996\n"
     ]
    }
   ],
   "source": [
    "a1 = Autoencoder()\n",
    "optimizer = optimizers.Adam()\n",
    "optimizer.setup(a1)\n",
    "\n",
    "batch_size = 100\n",
    "for step in range(1001):\n",
    "    batch_index = np.random.randint(len(train_set[0])-batch_size)\n",
    "    batch_x = Variable(train_set_x[batch_index:batch_index+batch_size])\n",
    "    optimizer.update(a1, batch_x)\n",
    "    if step % 100 == 0:\n",
    "        print(step, a1.accuracy.data)"
   ]
  },
  {
   "cell_type": "code",
   "execution_count": 12,
   "metadata": {
    "collapsed": false
   },
   "outputs": [],
   "source": [
    "predict1 = a1.predict(Variable(test_set_x))"
   ]
  },
  {
   "cell_type": "code",
   "execution_count": 13,
   "metadata": {
    "collapsed": false
   },
   "outputs": [
    {
     "data": {
      "image/png": "[encoded data removed]",
      "text/plain": [
       "<matplotlib.figure.Figure at 0x113bde470>"
      ]
     },
     "metadata": {},
     "output_type": "display_data"
    },
    {
     "data": {
      "image/png": "[encoded data removed]",
      "text/plain": [
       "<matplotlib.figure.Figure at 0x113bde080>"
      ]
     },
     "metadata": {},
     "output_type": "display_data"
    }
   ],
   "source": [
    "draw_digit(test_set_x[0])\n",
    "draw_digit(predict1.data[0])"
   ]
  },
  {
   "cell_type": "code",
   "execution_count": 14,
   "metadata": {
    "collapsed": false
   },
   "outputs": [],
   "source": [
    "modelFromAE = L.Classifier(MNISTMLPerceptronDropout())\n",
    "modelFromAE.predictor.l1 = a1.l1.copy()"
   ]
  },
  {
   "cell_type": "code",
   "execution_count": 15,
   "metadata": {
    "collapsed": false
   },
   "outputs": [
    {
     "name": "stdout",
     "output_type": "stream",
     "text": [
      "0 0.09000000357627869\n",
      "100 0.8100000023841858\n",
      "200 0.9100000262260437\n",
      "300 0.800000011920929\n",
      "400 0.9599999785423279\n",
      "500 0.949999988079071\n",
      "600 0.9100000262260437\n",
      "700 0.9200000166893005\n",
      "800 0.9599999785423279\n",
      "900 0.9700000286102295\n",
      "1000 0.9900000095367432\n"
     ]
    }
   ],
   "source": [
    "optimizer = optimizers.Adam()\n",
    "optimizer.setup(modelFromAE)\n",
    "\n",
    "batch_size = 100\n",
    "for step in range(1001):\n",
    "    batch_index = np.random.randint(len(train_set[0])-batch_size)\n",
    "    batch_x = Variable(train_set_x[batch_index:batch_index+batch_size])\n",
    "    batch_y = Variable(train_set_y[batch_index:batch_index+batch_size])\n",
    "    optimizer.update(modelFromAE, batch_x, batch_y)\n",
    "    if step % 100 == 0:\n",
    "        print(step, modelFromAE.accuracy.data)"
   ]
  },
  {
   "cell_type": "code",
   "execution_count": 16,
   "metadata": {
    "collapsed": false
   },
   "outputs": [
    {
     "name": "stdout",
     "output_type": "stream",
     "text": [
      "精度 → 0.9546999931335449\n"
     ]
    }
   ],
   "source": [
    "modelFromAE(Variable(test_set_x),Variable(test_set_y))\n",
    "print(\"精度 →\",modelFromAE.accuracy.data)"
   ]
  },
  {
   "cell_type": "markdown",
   "metadata": {},
   "source": [
    "階層がそれほど深くないからか、あまり意味がなかった？\n"
   ]
  },
  {
   "cell_type": "code",
   "execution_count": 17,
   "metadata": {
    "collapsed": false
   },
   "outputs": [
    {
     "name": "stdout",
     "output_type": "stream",
     "text": [
      "0 0.07999999821186066\n",
      "100 0.9800000190734863\n",
      "200 0.9900000095367432\n",
      "300 0.9700000286102295\n",
      "400 0.9599999785423279\n",
      "500 0.9800000190734863\n",
      "600 1.0\n",
      "700 0.9800000190734863\n",
      "800 0.9800000190734863\n",
      "900 0.9800000190734863\n",
      "1000 1.0\n",
      "精度 → 0.9765999913215637\n"
     ]
    }
   ],
   "source": [
    "modelFromAE = L.Classifier(MNISTMLPerceptron())\n",
    "modelFromAE.predictor.l1 = a1.l1.copy()\n",
    "optimizer = optimizers.Adam()\n",
    "optimizer.setup(modelFromAE)\n",
    "\n",
    "batch_size = 100\n",
    "for step in range(1001):\n",
    "    batch_index = np.random.randint(len(train_set[0])-batch_size)\n",
    "    batch_x = Variable(train_set_x[batch_index:batch_index+batch_size])\n",
    "    batch_y = Variable(train_set_y[batch_index:batch_index+batch_size])\n",
    "    optimizer.update(modelFromAE, batch_x, batch_y)\n",
    "    if step % 100 == 0:\n",
    "        print(step, modelFromAE.accuracy.data)\n",
    "modelFromAE(Variable(test_set_x),Variable(test_set_y))\n",
    "print(\"精度 →\",modelFromAE.accuracy.data)"
   ]
  },
  {
   "cell_type": "markdown",
   "metadata": {},
   "source": [
    "悩ましい。。。何もやらないほうが制度が高い。。。"
   ]
  }
 ],
 "metadata": {
  "kernelspec": {
   "display_name": "Python 3",
   "language": "python",
   "name": "python3"
  },
  "language_info": {
   "codemirror_mode": {
    "name": "ipython",
    "version": 3
   },
   "file_extension": ".py",
   "mimetype": "text/x-python",
   "name": "python",
   "nbconvert_exporter": "python",
   "pygments_lexer": "ipython3",
   "version": "3.4.3"
  }
 },
 "nbformat": 4,
 "nbformat_minor": 0
}
